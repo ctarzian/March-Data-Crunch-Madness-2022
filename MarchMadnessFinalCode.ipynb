{
 "cells": [
  {
   "cell_type": "markdown",
   "id": "485e8de3",
   "metadata": {},
   "source": [
    "# Deloitte March Data Crunch Madness Competition\n",
    "### Team: Bracket Busters"
   ]
  },
  {
   "cell_type": "code",
   "execution_count": 1,
   "id": "dc9df1df",
   "metadata": {},
   "outputs": [],
   "source": [
    "import matplotlib.pyplot as plt\n",
    "plt.style.use('ggplot')\n",
    "\n",
    "from math import sin, cos, sqrt, atan2, radians\n",
    "import numpy as np\n",
    "import pandas as pd\n",
    "import random\n",
    "\n",
    "from sklearn.model_selection import train_test_split\n",
    "from sklearn import preprocessing\n",
    "from sklearn.preprocessing import StandardScaler\n",
    "from sklearn.linear_model import LogisticRegression\n",
    "from sklearn.ensemble import RandomForestClassifier\n",
    "from sklearn.metrics import (auc, classification_report, roc_auc_score, accuracy_score,\n",
    "                             f1_score, log_loss, roc_curve, confusion_matrix, precision_score, recall_score)\n",
    "import statsmodels.formula.api as smf\n",
    "from sklearn.feature_selection import SelectFromModel\n",
    "from sklearn.feature_selection import RFE\n",
    "from sklearn.feature_selection import RFECV"
   ]
  },
  {
   "cell_type": "code",
   "execution_count": 2,
   "id": "5728d7b0",
   "metadata": {},
   "outputs": [],
   "source": [
    "#ncaa_data = pd.read_csv('allseasons.csv').query(\"season<2021\")\n",
    "ncaa_data = pd.read_csv('allseasons.csv').query(\"2009<season<2020\")"
   ]
  },
  {
   "cell_type": "code",
   "execution_count": 3,
   "id": "4ee19bc1",
   "metadata": {},
   "outputs": [
    {
     "data": {
      "text/html": [
       "<div>\n",
       "<style scoped>\n",
       "    .dataframe tbody tr th:only-of-type {\n",
       "        vertical-align: middle;\n",
       "    }\n",
       "\n",
       "    .dataframe tbody tr th {\n",
       "        vertical-align: top;\n",
       "    }\n",
       "\n",
       "    .dataframe thead th {\n",
       "        text-align: right;\n",
       "    }\n",
       "</style>\n",
       "<table border=\"1\" class=\"dataframe\">\n",
       "  <thead>\n",
       "    <tr style=\"text-align: right;\">\n",
       "      <th></th>\n",
       "      <th>team1_id</th>\n",
       "      <th>team1_score</th>\n",
       "      <th>team2_id</th>\n",
       "      <th>team2_score</th>\n",
       "      <th>WLoc</th>\n",
       "      <th>num_ot</th>\n",
       "      <th>team1_position</th>\n",
       "      <th>team2_position</th>\n",
       "      <th>team1_seed</th>\n",
       "      <th>team2_seed</th>\n",
       "      <th>...</th>\n",
       "      <th>team2_3PAr</th>\n",
       "      <th>team2_TS%</th>\n",
       "      <th>team2_TRB%</th>\n",
       "      <th>team2_AST%</th>\n",
       "      <th>team2_STL%</th>\n",
       "      <th>team2_BLK%</th>\n",
       "      <th>team2_eFG%</th>\n",
       "      <th>team2_TOV%</th>\n",
       "      <th>team2_ORB%</th>\n",
       "      <th>team2_FT/FGA</th>\n",
       "    </tr>\n",
       "  </thead>\n",
       "  <tbody>\n",
       "    <tr>\n",
       "      <th>0</th>\n",
       "      <td>1192</td>\n",
       "      <td>82</td>\n",
       "      <td>1341</td>\n",
       "      <td>76</td>\n",
       "      <td>N</td>\n",
       "      <td>0</td>\n",
       "      <td>X16a</td>\n",
       "      <td>X16b</td>\n",
       "      <td>16</td>\n",
       "      <td>16</td>\n",
       "      <td>...</td>\n",
       "      <td>34.1</td>\n",
       "      <td>53.0</td>\n",
       "      <td>46.7</td>\n",
       "      <td>49.3</td>\n",
       "      <td>12.2</td>\n",
       "      <td>4.6</td>\n",
       "      <td>49.3</td>\n",
       "      <td>15.2</td>\n",
       "      <td>29.8</td>\n",
       "      <td>28.9</td>\n",
       "    </tr>\n",
       "    <tr>\n",
       "      <th>1</th>\n",
       "      <td>1125</td>\n",
       "      <td>81</td>\n",
       "      <td>1396</td>\n",
       "      <td>70</td>\n",
       "      <td>N</td>\n",
       "      <td>0</td>\n",
       "      <td>W11a</td>\n",
       "      <td>W11b</td>\n",
       "      <td>11</td>\n",
       "      <td>11</td>\n",
       "      <td>...</td>\n",
       "      <td>37.4</td>\n",
       "      <td>53.4</td>\n",
       "      <td>48.2</td>\n",
       "      <td>54.5</td>\n",
       "      <td>12.0</td>\n",
       "      <td>6.2</td>\n",
       "      <td>49.9</td>\n",
       "      <td>13.8</td>\n",
       "      <td>26.1</td>\n",
       "      <td>23.6</td>\n",
       "    </tr>\n",
       "    <tr>\n",
       "      <th>2</th>\n",
       "      <td>1295</td>\n",
       "      <td>78</td>\n",
       "      <td>1300</td>\n",
       "      <td>74</td>\n",
       "      <td>N</td>\n",
       "      <td>0</td>\n",
       "      <td>W16a</td>\n",
       "      <td>W16b</td>\n",
       "      <td>16</td>\n",
       "      <td>16</td>\n",
       "      <td>...</td>\n",
       "      <td>36.1</td>\n",
       "      <td>54.5</td>\n",
       "      <td>54.8</td>\n",
       "      <td>60.2</td>\n",
       "      <td>8.9</td>\n",
       "      <td>7.5</td>\n",
       "      <td>51.2</td>\n",
       "      <td>18.8</td>\n",
       "      <td>35.1</td>\n",
       "      <td>23.9</td>\n",
       "    </tr>\n",
       "    <tr>\n",
       "      <th>3</th>\n",
       "      <td>1113</td>\n",
       "      <td>74</td>\n",
       "      <td>1385</td>\n",
       "      <td>65</td>\n",
       "      <td>N</td>\n",
       "      <td>0</td>\n",
       "      <td>X11a</td>\n",
       "      <td>X11b</td>\n",
       "      <td>11</td>\n",
       "      <td>11</td>\n",
       "      <td>...</td>\n",
       "      <td>38.5</td>\n",
       "      <td>54.8</td>\n",
       "      <td>45.8</td>\n",
       "      <td>50.0</td>\n",
       "      <td>12.1</td>\n",
       "      <td>9.8</td>\n",
       "      <td>51.8</td>\n",
       "      <td>13.0</td>\n",
       "      <td>21.4</td>\n",
       "      <td>21.2</td>\n",
       "    </tr>\n",
       "    <tr>\n",
       "      <th>4</th>\n",
       "      <td>1278</td>\n",
       "      <td>86</td>\n",
       "      <td>1257</td>\n",
       "      <td>76</td>\n",
       "      <td>N</td>\n",
       "      <td>0</td>\n",
       "      <td>W10</td>\n",
       "      <td>W07</td>\n",
       "      <td>10</td>\n",
       "      <td>7</td>\n",
       "      <td>...</td>\n",
       "      <td>43.7</td>\n",
       "      <td>55.3</td>\n",
       "      <td>52.4</td>\n",
       "      <td>53.6</td>\n",
       "      <td>6.3</td>\n",
       "      <td>7.9</td>\n",
       "      <td>50.9</td>\n",
       "      <td>15.2</td>\n",
       "      <td>29.0</td>\n",
       "      <td>27.1</td>\n",
       "    </tr>\n",
       "    <tr>\n",
       "      <th>...</th>\n",
       "      <td>...</td>\n",
       "      <td>...</td>\n",
       "      <td>...</td>\n",
       "      <td>...</td>\n",
       "      <td>...</td>\n",
       "      <td>...</td>\n",
       "      <td>...</td>\n",
       "      <td>...</td>\n",
       "      <td>...</td>\n",
       "      <td>...</td>\n",
       "      <td>...</td>\n",
       "      <td>...</td>\n",
       "      <td>...</td>\n",
       "      <td>...</td>\n",
       "      <td>...</td>\n",
       "      <td>...</td>\n",
       "      <td>...</td>\n",
       "      <td>...</td>\n",
       "      <td>...</td>\n",
       "      <td>...</td>\n",
       "      <td>...</td>\n",
       "    </tr>\n",
       "    <tr>\n",
       "      <th>1174</th>\n",
       "      <td>1260</td>\n",
       "      <td>78</td>\n",
       "      <td>1243</td>\n",
       "      <td>62</td>\n",
       "      <td>N</td>\n",
       "      <td>0</td>\n",
       "      <td>Y11</td>\n",
       "      <td>Y09</td>\n",
       "      <td>11</td>\n",
       "      <td>9</td>\n",
       "      <td>...</td>\n",
       "      <td>36.8</td>\n",
       "      <td>56.0</td>\n",
       "      <td>47.4</td>\n",
       "      <td>54.4</td>\n",
       "      <td>11.9</td>\n",
       "      <td>9.3</td>\n",
       "      <td>52.5</td>\n",
       "      <td>15.3</td>\n",
       "      <td>25.8</td>\n",
       "      <td>24.8</td>\n",
       "    </tr>\n",
       "    <tr>\n",
       "      <th>1175</th>\n",
       "      <td>1276</td>\n",
       "      <td>58</td>\n",
       "      <td>1199</td>\n",
       "      <td>54</td>\n",
       "      <td>N</td>\n",
       "      <td>0</td>\n",
       "      <td>Z03</td>\n",
       "      <td>Z09</td>\n",
       "      <td>3</td>\n",
       "      <td>9</td>\n",
       "      <td>...</td>\n",
       "      <td>36.8</td>\n",
       "      <td>56.2</td>\n",
       "      <td>51.8</td>\n",
       "      <td>52.6</td>\n",
       "      <td>9.4</td>\n",
       "      <td>14.0</td>\n",
       "      <td>53.2</td>\n",
       "      <td>15.4</td>\n",
       "      <td>32.0</td>\n",
       "      <td>25.6</td>\n",
       "    </tr>\n",
       "    <tr>\n",
       "      <th>1176</th>\n",
       "      <td>1437</td>\n",
       "      <td>95</td>\n",
       "      <td>1242</td>\n",
       "      <td>79</td>\n",
       "      <td>N</td>\n",
       "      <td>0</td>\n",
       "      <td>W01</td>\n",
       "      <td>X01</td>\n",
       "      <td>1</td>\n",
       "      <td>1</td>\n",
       "      <td>...</td>\n",
       "      <td>41.2</td>\n",
       "      <td>59.4</td>\n",
       "      <td>50.3</td>\n",
       "      <td>55.7</td>\n",
       "      <td>9.2</td>\n",
       "      <td>10.9</td>\n",
       "      <td>57.5</td>\n",
       "      <td>14.6</td>\n",
       "      <td>29.3</td>\n",
       "      <td>19.1</td>\n",
       "    </tr>\n",
       "    <tr>\n",
       "      <th>1177</th>\n",
       "      <td>1276</td>\n",
       "      <td>69</td>\n",
       "      <td>1260</td>\n",
       "      <td>57</td>\n",
       "      <td>N</td>\n",
       "      <td>0</td>\n",
       "      <td>Z03</td>\n",
       "      <td>Y11</td>\n",
       "      <td>3</td>\n",
       "      <td>11</td>\n",
       "      <td>...</td>\n",
       "      <td>35.7</td>\n",
       "      <td>60.2</td>\n",
       "      <td>51.3</td>\n",
       "      <td>59.7</td>\n",
       "      <td>9.6</td>\n",
       "      <td>6.8</td>\n",
       "      <td>57.7</td>\n",
       "      <td>17.3</td>\n",
       "      <td>22.4</td>\n",
       "      <td>23.1</td>\n",
       "    </tr>\n",
       "    <tr>\n",
       "      <th>1178</th>\n",
       "      <td>1437</td>\n",
       "      <td>79</td>\n",
       "      <td>1276</td>\n",
       "      <td>62</td>\n",
       "      <td>N</td>\n",
       "      <td>0</td>\n",
       "      <td>W01</td>\n",
       "      <td>Z03</td>\n",
       "      <td>1</td>\n",
       "      <td>3</td>\n",
       "      <td>...</td>\n",
       "      <td>43.3</td>\n",
       "      <td>56.4</td>\n",
       "      <td>50.3</td>\n",
       "      <td>53.6</td>\n",
       "      <td>9.6</td>\n",
       "      <td>8.1</td>\n",
       "      <td>54.5</td>\n",
       "      <td>12.4</td>\n",
       "      <td>25.4</td>\n",
       "      <td>20.3</td>\n",
       "    </tr>\n",
       "  </tbody>\n",
       "</table>\n",
       "<p>667 rows × 138 columns</p>\n",
       "</div>"
      ],
      "text/plain": [
       "      team1_id  team1_score  team2_id  team2_score WLoc  num_ot  \\\n",
       "0         1192           82      1341           76    N       0   \n",
       "1         1125           81      1396           70    N       0   \n",
       "2         1295           78      1300           74    N       0   \n",
       "3         1113           74      1385           65    N       0   \n",
       "4         1278           86      1257           76    N       0   \n",
       "...        ...          ...       ...          ...  ...     ...   \n",
       "1174      1260           78      1243           62    N       0   \n",
       "1175      1276           58      1199           54    N       0   \n",
       "1176      1437           95      1242           79    N       0   \n",
       "1177      1276           69      1260           57    N       0   \n",
       "1178      1437           79      1276           62    N       0   \n",
       "\n",
       "     team1_position team2_position  team1_seed  team2_seed  ...  team2_3PAr  \\\n",
       "0              X16a           X16b          16          16  ...        34.1   \n",
       "1              W11a           W11b          11          11  ...        37.4   \n",
       "2              W16a           W16b          16          16  ...        36.1   \n",
       "3              X11a           X11b          11          11  ...        38.5   \n",
       "4               W10            W07          10           7  ...        43.7   \n",
       "...             ...            ...         ...         ...  ...         ...   \n",
       "1174            Y11            Y09          11           9  ...        36.8   \n",
       "1175            Z03            Z09           3           9  ...        36.8   \n",
       "1176            W01            X01           1           1  ...        41.2   \n",
       "1177            Z03            Y11           3          11  ...        35.7   \n",
       "1178            W01            Z03           1           3  ...        43.3   \n",
       "\n",
       "      team2_TS% team2_TRB% team2_AST% team2_STL% team2_BLK% team2_eFG%  \\\n",
       "0          53.0       46.7       49.3       12.2        4.6       49.3   \n",
       "1          53.4       48.2       54.5       12.0        6.2       49.9   \n",
       "2          54.5       54.8       60.2        8.9        7.5       51.2   \n",
       "3          54.8       45.8       50.0       12.1        9.8       51.8   \n",
       "4          55.3       52.4       53.6        6.3        7.9       50.9   \n",
       "...         ...        ...        ...        ...        ...        ...   \n",
       "1174       56.0       47.4       54.4       11.9        9.3       52.5   \n",
       "1175       56.2       51.8       52.6        9.4       14.0       53.2   \n",
       "1176       59.4       50.3       55.7        9.2       10.9       57.5   \n",
       "1177       60.2       51.3       59.7        9.6        6.8       57.7   \n",
       "1178       56.4       50.3       53.6        9.6        8.1       54.5   \n",
       "\n",
       "      team2_TOV% team2_ORB%  team2_FT/FGA  \n",
       "0           15.2       29.8          28.9  \n",
       "1           13.8       26.1          23.6  \n",
       "2           18.8       35.1          23.9  \n",
       "3           13.0       21.4          21.2  \n",
       "4           15.2       29.0          27.1  \n",
       "...          ...        ...           ...  \n",
       "1174        15.3       25.8          24.8  \n",
       "1175        15.4       32.0          25.6  \n",
       "1176        14.6       29.3          19.1  \n",
       "1177        17.3       22.4          23.1  \n",
       "1178        12.4       25.4          20.3  \n",
       "\n",
       "[667 rows x 138 columns]"
      ]
     },
     "execution_count": 3,
     "metadata": {},
     "output_type": "execute_result"
    }
   ],
   "source": [
    "ncaa_data"
   ]
  },
  {
   "cell_type": "markdown",
   "id": "7a11a040",
   "metadata": {},
   "source": [
    "## Pythag"
   ]
  },
  {
   "cell_type": "code",
   "execution_count": 4,
   "id": "7d51adeb",
   "metadata": {},
   "outputs": [],
   "source": [
    "## creating KenPom's Pythag variable\n",
    "ncaa_data['exp_win1'] = (ncaa_data['team1_adjoe']**11.5)/ ((ncaa_data['team1_adjde']**11.5)+(ncaa_data['team1_adjoe']**11.5))\n",
    "ncaa_data['exp_win2'] = (ncaa_data['team2_adjoe']**11.5)/ ((ncaa_data['team2_adjde']**11.5)+(ncaa_data['team2_adjoe']**11.5))"
   ]
  },
  {
   "cell_type": "markdown",
   "id": "a3826e93",
   "metadata": {},
   "source": [
    "## Variables"
   ]
  },
  {
   "cell_type": "markdown",
   "id": "90628977",
   "metadata": {},
   "source": [
    "### Log Odds"
   ]
  },
  {
   "cell_type": "code",
   "execution_count": 5,
   "id": "13a0e3fc",
   "metadata": {},
   "outputs": [],
   "source": [
    "## creating a log odds variable that is a teams expected winning percentage when playing another team\n",
    "ncaa_data['team1_log5'] = (ncaa_data['exp_win1'] - (ncaa_data['exp_win1']*ncaa_data['exp_win2']))/ (ncaa_data['exp_win1']+ncaa_data['exp_win2']-(2*ncaa_data['exp_win1']*ncaa_data['exp_win2']))"
   ]
  },
  {
   "cell_type": "markdown",
   "id": "6cb365a0",
   "metadata": {},
   "source": [
    "### Seed Difference"
   ]
  },
  {
   "cell_type": "code",
   "execution_count": 6,
   "id": "6dd59e9b",
   "metadata": {},
   "outputs": [],
   "source": [
    "## calculates the seed difference between each winning and losing team\n",
    "ncaa_data['seed_diff'] = ncaa_data['team1_seed'] - ncaa_data['team2_seed']"
   ]
  },
  {
   "cell_type": "markdown",
   "id": "34770d37",
   "metadata": {},
   "source": [
    "### Distance"
   ]
  },
  {
   "cell_type": "code",
   "execution_count": 7,
   "id": "4237a61a",
   "metadata": {},
   "outputs": [],
   "source": [
    "## Creating a distance function to determine the distance each team traveled for their matchups\n",
    "def distance(lat1, lon1, lat2, lon2):\n",
    "\n",
    "    # approximate radius of earth in km\n",
    "    R = 6373.0\n",
    "\n",
    "    lat1 = radians(lat1)\n",
    "    lon1 = radians(lon1)\n",
    "    lat2 = radians(lat2)\n",
    "    lon2 = radians(lon2)\n",
    "\n",
    "    dlon = lon2 - lon1\n",
    "    dlat = lat2 - lat1\n",
    "\n",
    "    a = sin(dlat / 2)**2 + cos(lat1) * cos(lat2) * sin(dlon / 2)**2\n",
    "    c = 2 * atan2(sqrt(a), sqrt(1 - a))\n",
    "\n",
    "    distance = R * c\n",
    "    \n",
    "    return distance"
   ]
  },
  {
   "cell_type": "code",
   "execution_count": 8,
   "id": "71d883db",
   "metadata": {},
   "outputs": [],
   "source": [
    "## calculating distance traveled for each team\n",
    "ncaa_data['dist1'] = ncaa_data.apply(lambda row: distance(row['host_lat'], row['host_long'], row['team1_lat'], row['team1_long']), axis=1)\n",
    "ncaa_data['dist2'] = ncaa_data.apply(lambda row: distance(row['host_lat'], row['host_long'], row['team2_lat'], row['team2_long']), axis=1)"
   ]
  },
  {
   "cell_type": "code",
   "execution_count": 9,
   "id": "92996f57",
   "metadata": {},
   "outputs": [],
   "source": [
    "## calculating difference in travel distance between each team\n",
    "ncaa_data['diff_dist'] = ncaa_data['dist1'] - ncaa_data['dist2']"
   ]
  },
  {
   "cell_type": "markdown",
   "id": "a3f61d44",
   "metadata": {},
   "source": [
    "### SRS"
   ]
  },
  {
   "cell_type": "code",
   "execution_count": 10,
   "id": "7c98ce7c",
   "metadata": {},
   "outputs": [],
   "source": [
    "## calculating the difference in SRS rating between teams\n",
    "## SRS takes into account strength of schedule and average point differential\n",
    "## strong indicator of past champions success\n",
    "ncaa_data['srs_diff'] = ncaa_data['team1_SRS'] - ncaa_data['team2_SRS']"
   ]
  },
  {
   "cell_type": "markdown",
   "id": "7b4f24fc",
   "metadata": {},
   "source": [
    "### Turnover %"
   ]
  },
  {
   "cell_type": "code",
   "execution_count": 11,
   "id": "2bbb0272",
   "metadata": {},
   "outputs": [],
   "source": [
    "## Calculates difference in teams turnover differential\n",
    "ncaa_data['TOV_diff'] =  ncaa_data['team2_TOV%']- ncaa_data['team1_TOV%']"
   ]
  },
  {
   "cell_type": "markdown",
   "id": "d4fbad7d",
   "metadata": {},
   "source": [
    "### True Shooting %"
   ]
  },
  {
   "cell_type": "code",
   "execution_count": 12,
   "id": "f55f7a10",
   "metadata": {},
   "outputs": [],
   "source": [
    "ncaa_data['TS_diff'] = ncaa_data['team1_TS%'] - ncaa_data['team2_TS%']"
   ]
  },
  {
   "cell_type": "markdown",
   "id": "ec9405d7",
   "metadata": {},
   "source": [
    "### True Rebounding %"
   ]
  },
  {
   "cell_type": "code",
   "execution_count": 13,
   "id": "c3969dce",
   "metadata": {},
   "outputs": [],
   "source": [
    "ncaa_data['TRB_diff'] = ncaa_data['team1_TRB%'] - ncaa_data['team2_TRB%']"
   ]
  },
  {
   "cell_type": "markdown",
   "id": "2716a447",
   "metadata": {},
   "source": [
    "### Effective Field Goal %"
   ]
  },
  {
   "cell_type": "code",
   "execution_count": 14,
   "id": "1e7c8c80",
   "metadata": {},
   "outputs": [],
   "source": [
    "ncaa_data['eFG_diff'] = ncaa_data['team1_eFG%'] - ncaa_data['team2_eFG%']"
   ]
  },
  {
   "cell_type": "markdown",
   "id": "d6354ca6",
   "metadata": {},
   "source": [
    "### Adjusted Tempo"
   ]
  },
  {
   "cell_type": "code",
   "execution_count": 15,
   "id": "1d5a7d69",
   "metadata": {},
   "outputs": [],
   "source": [
    "## Calculates the difference in the teams adjusted tempo\n",
    "ncaa_data['adjtempo_diff'] = ncaa_data['team1_adjtempo'] - ncaa_data['team2_adjtempo']"
   ]
  },
  {
   "cell_type": "markdown",
   "id": "43724d44",
   "metadata": {},
   "source": [
    "### Net Rating"
   ]
  },
  {
   "cell_type": "code",
   "execution_count": 16,
   "id": "1447fc3c",
   "metadata": {},
   "outputs": [],
   "source": [
    "## Calculates the difference in a teams adjusted offense minus its adjusted defense subtracted against their oppenents\n",
    "## Strong indicator of a teams success\n",
    "ncaa_data['net_rating_diff'] = (ncaa_data['team1_adjoe'] - ncaa_data['team1_adjde']) - (ncaa_data['team2_adjoe'] - ncaa_data['team2_adjde'])"
   ]
  },
  {
   "cell_type": "markdown",
   "id": "e557fb7b",
   "metadata": {},
   "source": [
    "### Ast/Stl/Block Diff"
   ]
  },
  {
   "cell_type": "code",
   "execution_count": 17,
   "id": "962a76e6",
   "metadata": {},
   "outputs": [],
   "source": [
    "ncaa_data['ast_stl_block_diff'] = (ncaa_data['team1_arate'] + ncaa_data['team1_stlrate'] + ncaa_data['team1_blockpct']) - (ncaa_data['team2_arate'] + ncaa_data['team2_stlrate'] + ncaa_data['team2_blockpct'])"
   ]
  },
  {
   "cell_type": "markdown",
   "id": "096b70b4",
   "metadata": {},
   "source": [
    "### Win Tempo Diff"
   ]
  },
  {
   "cell_type": "code",
   "execution_count": 18,
   "id": "d662997b",
   "metadata": {},
   "outputs": [],
   "source": [
    "ncaa_data['win_tempo_diff'] = (((ncaa_data['team1_adjoe'] - 100) -(100 - ncaa_data['team2_adjde'])+100)/100*((ncaa_data['team1_adjtempo'] + ncaa_data['team2_adjtempo'])/2)) - (((ncaa_data['team2_adjoe'] - 100) - (100 - ncaa_data['team1_adjde'])+100)/100*((ncaa_data['team1_adjtempo']+ncaa_data['team2_adjtempo'])/2))"
   ]
  },
  {
   "cell_type": "markdown",
   "id": "1adf2c0e",
   "metadata": {},
   "source": [
    "## Analyzing Dataset"
   ]
  },
  {
   "cell_type": "code",
   "execution_count": 19,
   "id": "44cffe1f",
   "metadata": {
    "scrolled": true
   },
   "outputs": [
    {
     "data": {
      "text/html": [
       "<div>\n",
       "<style scoped>\n",
       "    .dataframe tbody tr th:only-of-type {\n",
       "        vertical-align: middle;\n",
       "    }\n",
       "\n",
       "    .dataframe tbody tr th {\n",
       "        vertical-align: top;\n",
       "    }\n",
       "\n",
       "    .dataframe thead th {\n",
       "        text-align: right;\n",
       "    }\n",
       "</style>\n",
       "<table border=\"1\" class=\"dataframe\">\n",
       "  <thead>\n",
       "    <tr style=\"text-align: right;\">\n",
       "      <th></th>\n",
       "      <th>season</th>\n",
       "      <th>team1_teamname</th>\n",
       "      <th>team2_teamname</th>\n",
       "      <th>seed_diff</th>\n",
       "      <th>team1_log5</th>\n",
       "      <th>win_tempo_diff</th>\n",
       "      <th>srs_diff</th>\n",
       "      <th>net_rating_diff</th>\n",
       "      <th>ast_stl_block_diff</th>\n",
       "      <th>eFG_diff</th>\n",
       "      <th>TS_diff</th>\n",
       "      <th>TRB_diff</th>\n",
       "      <th>TOV_diff</th>\n",
       "    </tr>\n",
       "  </thead>\n",
       "  <tbody>\n",
       "    <tr>\n",
       "      <th>0</th>\n",
       "      <td>2019</td>\n",
       "      <td>F Dickinson</td>\n",
       "      <td>Prairie View</td>\n",
       "      <td>0</td>\n",
       "      <td>0.506403</td>\n",
       "      <td>0.034468</td>\n",
       "      <td>1.20</td>\n",
       "      <td>0.0500</td>\n",
       "      <td>9.284429</td>\n",
       "      <td>5.1</td>\n",
       "      <td>4.6</td>\n",
       "      <td>2.6</td>\n",
       "      <td>-2.1</td>\n",
       "    </tr>\n",
       "    <tr>\n",
       "      <th>1</th>\n",
       "      <td>2019</td>\n",
       "      <td>Belmont</td>\n",
       "      <td>Temple</td>\n",
       "      <td>0</td>\n",
       "      <td>0.585922</td>\n",
       "      <td>2.546911</td>\n",
       "      <td>0.95</td>\n",
       "      <td>3.6380</td>\n",
       "      <td>6.658113</td>\n",
       "      <td>8.1</td>\n",
       "      <td>6.9</td>\n",
       "      <td>4.0</td>\n",
       "      <td>0.1</td>\n",
       "    </tr>\n",
       "    <tr>\n",
       "      <th>2</th>\n",
       "      <td>2019</td>\n",
       "      <td>N Dakota St</td>\n",
       "      <td>NC Central</td>\n",
       "      <td>0</td>\n",
       "      <td>0.730051</td>\n",
       "      <td>5.665442</td>\n",
       "      <td>7.52</td>\n",
       "      <td>8.7079</td>\n",
       "      <td>-14.416704</td>\n",
       "      <td>2.8</td>\n",
       "      <td>3.1</td>\n",
       "      <td>-6.1</td>\n",
       "      <td>4.6</td>\n",
       "    </tr>\n",
       "    <tr>\n",
       "      <th>3</th>\n",
       "      <td>2019</td>\n",
       "      <td>Arizona St</td>\n",
       "      <td>St John's</td>\n",
       "      <td>0</td>\n",
       "      <td>0.570190</td>\n",
       "      <td>1.738213</td>\n",
       "      <td>2.40</td>\n",
       "      <td>2.4636</td>\n",
       "      <td>-2.996976</td>\n",
       "      <td>-1.2</td>\n",
       "      <td>-0.5</td>\n",
       "      <td>6.8</td>\n",
       "      <td>-3.1</td>\n",
       "    </tr>\n",
       "    <tr>\n",
       "      <th>4</th>\n",
       "      <td>2019</td>\n",
       "      <td>Minnesota</td>\n",
       "      <td>Louisville</td>\n",
       "      <td>3</td>\n",
       "      <td>0.322116</td>\n",
       "      <td>-4.401477</td>\n",
       "      <td>-4.76</td>\n",
       "      <td>-6.5352</td>\n",
       "      <td>9.684422</td>\n",
       "      <td>-2.7</td>\n",
       "      <td>-3.2</td>\n",
       "      <td>-1.2</td>\n",
       "      <td>0.6</td>\n",
       "    </tr>\n",
       "    <tr>\n",
       "      <th>...</th>\n",
       "      <td>...</td>\n",
       "      <td>...</td>\n",
       "      <td>...</td>\n",
       "      <td>...</td>\n",
       "      <td>...</td>\n",
       "      <td>...</td>\n",
       "      <td>...</td>\n",
       "      <td>...</td>\n",
       "      <td>...</td>\n",
       "      <td>...</td>\n",
       "      <td>...</td>\n",
       "      <td>...</td>\n",
       "      <td>...</td>\n",
       "    </tr>\n",
       "    <tr>\n",
       "      <th>1174</th>\n",
       "      <td>2018</td>\n",
       "      <td>Loyola-Chicago</td>\n",
       "      <td>Kansas St</td>\n",
       "      <td>2</td>\n",
       "      <td>0.720863</td>\n",
       "      <td>5.297400</td>\n",
       "      <td>-2.48</td>\n",
       "      <td>8.1000</td>\n",
       "      <td>-0.028481</td>\n",
       "      <td>5.2</td>\n",
       "      <td>4.2</td>\n",
       "      <td>3.9</td>\n",
       "      <td>-2.0</td>\n",
       "    </tr>\n",
       "    <tr>\n",
       "      <th>1175</th>\n",
       "      <td>2018</td>\n",
       "      <td>Michigan</td>\n",
       "      <td>Florida St</td>\n",
       "      <td>-6</td>\n",
       "      <td>0.648177</td>\n",
       "      <td>3.604000</td>\n",
       "      <td>3.25</td>\n",
       "      <td>5.3000</td>\n",
       "      <td>-2.334396</td>\n",
       "      <td>1.3</td>\n",
       "      <td>0.2</td>\n",
       "      <td>-1.5</td>\n",
       "      <td>3.0</td>\n",
       "    </tr>\n",
       "    <tr>\n",
       "      <th>1176</th>\n",
       "      <td>2018</td>\n",
       "      <td>Villanova</td>\n",
       "      <td>Kansas</td>\n",
       "      <td>0</td>\n",
       "      <td>0.695616</td>\n",
       "      <td>5.673050</td>\n",
       "      <td>5.25</td>\n",
       "      <td>8.3000</td>\n",
       "      <td>-3.481968</td>\n",
       "      <td>2.0</td>\n",
       "      <td>2.9</td>\n",
       "      <td>2.1</td>\n",
       "      <td>1.3</td>\n",
       "    </tr>\n",
       "    <tr>\n",
       "      <th>1177</th>\n",
       "      <td>2018</td>\n",
       "      <td>Michigan</td>\n",
       "      <td>Loyola-Chicago</td>\n",
       "      <td>-8</td>\n",
       "      <td>0.486853</td>\n",
       "      <td>-0.064850</td>\n",
       "      <td>8.66</td>\n",
       "      <td>-0.1000</td>\n",
       "      <td>-3.943788</td>\n",
       "      <td>-3.2</td>\n",
       "      <td>-3.8</td>\n",
       "      <td>-1.0</td>\n",
       "      <td>4.9</td>\n",
       "    </tr>\n",
       "    <tr>\n",
       "      <th>1178</th>\n",
       "      <td>2018</td>\n",
       "      <td>Villanova</td>\n",
       "      <td>Michigan</td>\n",
       "      <td>-2</td>\n",
       "      <td>0.677630</td>\n",
       "      <td>5.440700</td>\n",
       "      <td>7.61</td>\n",
       "      <td>8.2000</td>\n",
       "      <td>1.060748</td>\n",
       "      <td>5.0</td>\n",
       "      <td>5.9</td>\n",
       "      <td>2.1</td>\n",
       "      <td>-0.9</td>\n",
       "    </tr>\n",
       "  </tbody>\n",
       "</table>\n",
       "<p>667 rows × 13 columns</p>\n",
       "</div>"
      ],
      "text/plain": [
       "      season  team1_teamname  team2_teamname  seed_diff  team1_log5  \\\n",
       "0       2019     F Dickinson    Prairie View          0    0.506403   \n",
       "1       2019         Belmont          Temple          0    0.585922   \n",
       "2       2019     N Dakota St      NC Central          0    0.730051   \n",
       "3       2019      Arizona St       St John's          0    0.570190   \n",
       "4       2019       Minnesota      Louisville          3    0.322116   \n",
       "...      ...             ...             ...        ...         ...   \n",
       "1174    2018  Loyola-Chicago       Kansas St          2    0.720863   \n",
       "1175    2018        Michigan      Florida St         -6    0.648177   \n",
       "1176    2018       Villanova          Kansas          0    0.695616   \n",
       "1177    2018        Michigan  Loyola-Chicago         -8    0.486853   \n",
       "1178    2018       Villanova        Michigan         -2    0.677630   \n",
       "\n",
       "      win_tempo_diff  srs_diff  net_rating_diff  ast_stl_block_diff  eFG_diff  \\\n",
       "0           0.034468      1.20           0.0500            9.284429       5.1   \n",
       "1           2.546911      0.95           3.6380            6.658113       8.1   \n",
       "2           5.665442      7.52           8.7079          -14.416704       2.8   \n",
       "3           1.738213      2.40           2.4636           -2.996976      -1.2   \n",
       "4          -4.401477     -4.76          -6.5352            9.684422      -2.7   \n",
       "...              ...       ...              ...                 ...       ...   \n",
       "1174        5.297400     -2.48           8.1000           -0.028481       5.2   \n",
       "1175        3.604000      3.25           5.3000           -2.334396       1.3   \n",
       "1176        5.673050      5.25           8.3000           -3.481968       2.0   \n",
       "1177       -0.064850      8.66          -0.1000           -3.943788      -3.2   \n",
       "1178        5.440700      7.61           8.2000            1.060748       5.0   \n",
       "\n",
       "      TS_diff  TRB_diff  TOV_diff  \n",
       "0         4.6       2.6      -2.1  \n",
       "1         6.9       4.0       0.1  \n",
       "2         3.1      -6.1       4.6  \n",
       "3        -0.5       6.8      -3.1  \n",
       "4        -3.2      -1.2       0.6  \n",
       "...       ...       ...       ...  \n",
       "1174      4.2       3.9      -2.0  \n",
       "1175      0.2      -1.5       3.0  \n",
       "1176      2.9       2.1       1.3  \n",
       "1177     -3.8      -1.0       4.9  \n",
       "1178      5.9       2.1      -0.9  \n",
       "\n",
       "[667 rows x 13 columns]"
      ]
     },
     "execution_count": 19,
     "metadata": {},
     "output_type": "execute_result"
    }
   ],
   "source": [
    "ncaa_data[['season','team1_teamname','team2_teamname','seed_diff','team1_log5','win_tempo_diff','srs_diff','net_rating_diff','ast_stl_block_diff','eFG_diff','TS_diff','TRB_diff','TOV_diff']]"
   ]
  },
  {
   "cell_type": "code",
   "execution_count": 20,
   "id": "b5437631",
   "metadata": {},
   "outputs": [],
   "source": [
    "ncaa_data.fillna(0, inplace=True)"
   ]
  },
  {
   "cell_type": "code",
   "execution_count": 21,
   "id": "32599a07",
   "metadata": {},
   "outputs": [
    {
     "data": {
      "text/html": [
       "<div>\n",
       "<style scoped>\n",
       "    .dataframe tbody tr th:only-of-type {\n",
       "        vertical-align: middle;\n",
       "    }\n",
       "\n",
       "    .dataframe tbody tr th {\n",
       "        vertical-align: top;\n",
       "    }\n",
       "\n",
       "    .dataframe thead th {\n",
       "        text-align: right;\n",
       "    }\n",
       "</style>\n",
       "<table border=\"1\" class=\"dataframe\">\n",
       "  <thead>\n",
       "    <tr style=\"text-align: right;\">\n",
       "      <th></th>\n",
       "      <th>team1_id</th>\n",
       "      <th>team1_score</th>\n",
       "      <th>team2_id</th>\n",
       "      <th>team2_score</th>\n",
       "      <th>num_ot</th>\n",
       "      <th>team1_seed</th>\n",
       "      <th>team2_seed</th>\n",
       "      <th>strongseed</th>\n",
       "      <th>weakseed</th>\n",
       "      <th>season</th>\n",
       "      <th>...</th>\n",
       "      <th>diff_dist</th>\n",
       "      <th>srs_diff</th>\n",
       "      <th>TOV_diff</th>\n",
       "      <th>TS_diff</th>\n",
       "      <th>TRB_diff</th>\n",
       "      <th>eFG_diff</th>\n",
       "      <th>adjtempo_diff</th>\n",
       "      <th>net_rating_diff</th>\n",
       "      <th>ast_stl_block_diff</th>\n",
       "      <th>win_tempo_diff</th>\n",
       "    </tr>\n",
       "  </thead>\n",
       "  <tbody>\n",
       "    <tr>\n",
       "      <th>count</th>\n",
       "      <td>667.000000</td>\n",
       "      <td>667.000000</td>\n",
       "      <td>667.000000</td>\n",
       "      <td>667.000000</td>\n",
       "      <td>667.000000</td>\n",
       "      <td>667.000000</td>\n",
       "      <td>667.000000</td>\n",
       "      <td>667.000000</td>\n",
       "      <td>667.00000</td>\n",
       "      <td>667.000000</td>\n",
       "      <td>...</td>\n",
       "      <td>667.000000</td>\n",
       "      <td>667.000000</td>\n",
       "      <td>667.000000</td>\n",
       "      <td>667.000000</td>\n",
       "      <td>667.000000</td>\n",
       "      <td>667.000000</td>\n",
       "      <td>667.000000</td>\n",
       "      <td>667.000000</td>\n",
       "      <td>667.000000</td>\n",
       "      <td>667.000000</td>\n",
       "    </tr>\n",
       "    <tr>\n",
       "      <th>mean</th>\n",
       "      <td>1290.592204</td>\n",
       "      <td>74.797601</td>\n",
       "      <td>1295.725637</td>\n",
       "      <td>63.458771</td>\n",
       "      <td>0.056972</td>\n",
       "      <td>5.496252</td>\n",
       "      <td>8.892054</td>\n",
       "      <td>4.167916</td>\n",
       "      <td>10.22039</td>\n",
       "      <td>2014.520240</td>\n",
       "      <td>...</td>\n",
       "      <td>-194.908693</td>\n",
       "      <td>5.757616</td>\n",
       "      <td>0.495352</td>\n",
       "      <td>1.084258</td>\n",
       "      <td>0.605697</td>\n",
       "      <td>1.111694</td>\n",
       "      <td>-0.264110</td>\n",
       "      <td>5.636244</td>\n",
       "      <td>1.310103</td>\n",
       "      <td>3.776440</td>\n",
       "    </tr>\n",
       "    <tr>\n",
       "      <th>std</th>\n",
       "      <td>102.136774</td>\n",
       "      <td>10.357258</td>\n",
       "      <td>103.720235</td>\n",
       "      <td>10.110621</td>\n",
       "      <td>0.262338</td>\n",
       "      <td>4.179303</td>\n",
       "      <td>4.628257</td>\n",
       "      <td>3.364091</td>\n",
       "      <td>3.87310</td>\n",
       "      <td>2.864947</td>\n",
       "      <td>...</td>\n",
       "      <td>1139.123952</td>\n",
       "      <td>9.474601</td>\n",
       "      <td>2.142020</td>\n",
       "      <td>6.621598</td>\n",
       "      <td>3.445661</td>\n",
       "      <td>6.494612</td>\n",
       "      <td>3.994642</td>\n",
       "      <td>10.539197</td>\n",
       "      <td>8.807528</td>\n",
       "      <td>7.039637</td>\n",
       "    </tr>\n",
       "    <tr>\n",
       "      <th>min</th>\n",
       "      <td>1104.000000</td>\n",
       "      <td>47.000000</td>\n",
       "      <td>1101.000000</td>\n",
       "      <td>34.000000</td>\n",
       "      <td>0.000000</td>\n",
       "      <td>1.000000</td>\n",
       "      <td>1.000000</td>\n",
       "      <td>1.000000</td>\n",
       "      <td>1.00000</td>\n",
       "      <td>2010.000000</td>\n",
       "      <td>...</td>\n",
       "      <td>-3581.990105</td>\n",
       "      <td>-24.220000</td>\n",
       "      <td>-5.500000</td>\n",
       "      <td>-9.100000</td>\n",
       "      <td>-10.400000</td>\n",
       "      <td>-10.000000</td>\n",
       "      <td>-11.495500</td>\n",
       "      <td>-27.467200</td>\n",
       "      <td>-22.985700</td>\n",
       "      <td>-18.408009</td>\n",
       "    </tr>\n",
       "    <tr>\n",
       "      <th>25%</th>\n",
       "      <td>1211.000000</td>\n",
       "      <td>68.000000</td>\n",
       "      <td>1211.000000</td>\n",
       "      <td>57.000000</td>\n",
       "      <td>0.000000</td>\n",
       "      <td>2.000000</td>\n",
       "      <td>5.000000</td>\n",
       "      <td>2.000000</td>\n",
       "      <td>8.00000</td>\n",
       "      <td>2012.000000</td>\n",
       "      <td>...</td>\n",
       "      <td>-803.542997</td>\n",
       "      <td>-0.510000</td>\n",
       "      <td>-1.000000</td>\n",
       "      <td>-1.850000</td>\n",
       "      <td>-1.600000</td>\n",
       "      <td>-1.900000</td>\n",
       "      <td>-2.765250</td>\n",
       "      <td>-1.177850</td>\n",
       "      <td>-4.771012</td>\n",
       "      <td>-0.812265</td>\n",
       "    </tr>\n",
       "    <tr>\n",
       "      <th>50%</th>\n",
       "      <td>1276.000000</td>\n",
       "      <td>75.000000</td>\n",
       "      <td>1295.000000</td>\n",
       "      <td>63.000000</td>\n",
       "      <td>0.000000</td>\n",
       "      <td>4.000000</td>\n",
       "      <td>9.000000</td>\n",
       "      <td>3.000000</td>\n",
       "      <td>11.00000</td>\n",
       "      <td>2015.000000</td>\n",
       "      <td>...</td>\n",
       "      <td>-176.576121</td>\n",
       "      <td>4.050000</td>\n",
       "      <td>0.600000</td>\n",
       "      <td>0.600000</td>\n",
       "      <td>0.600000</td>\n",
       "      <td>0.700000</td>\n",
       "      <td>-0.122500</td>\n",
       "      <td>4.494200</td>\n",
       "      <td>1.207400</td>\n",
       "      <td>3.016467</td>\n",
       "    </tr>\n",
       "    <tr>\n",
       "      <th>75%</th>\n",
       "      <td>1388.000000</td>\n",
       "      <td>81.000000</td>\n",
       "      <td>1388.500000</td>\n",
       "      <td>70.000000</td>\n",
       "      <td>0.000000</td>\n",
       "      <td>8.000000</td>\n",
       "      <td>13.000000</td>\n",
       "      <td>6.000000</td>\n",
       "      <td>13.00000</td>\n",
       "      <td>2017.000000</td>\n",
       "      <td>...</td>\n",
       "      <td>407.881326</td>\n",
       "      <td>10.910000</td>\n",
       "      <td>2.000000</td>\n",
       "      <td>3.000000</td>\n",
       "      <td>2.800000</td>\n",
       "      <td>3.450000</td>\n",
       "      <td>2.261950</td>\n",
       "      <td>11.674100</td>\n",
       "      <td>7.656200</td>\n",
       "      <td>7.786729</td>\n",
       "    </tr>\n",
       "    <tr>\n",
       "      <th>max</th>\n",
       "      <td>1463.000000</td>\n",
       "      <td>105.000000</td>\n",
       "      <td>1463.000000</td>\n",
       "      <td>96.000000</td>\n",
       "      <td>2.000000</td>\n",
       "      <td>16.000000</td>\n",
       "      <td>16.000000</td>\n",
       "      <td>16.000000</td>\n",
       "      <td>16.00000</td>\n",
       "      <td>2019.000000</td>\n",
       "      <td>...</td>\n",
       "      <td>3917.144567</td>\n",
       "      <td>36.970000</td>\n",
       "      <td>9.500000</td>\n",
       "      <td>61.600000</td>\n",
       "      <td>11.200000</td>\n",
       "      <td>58.900000</td>\n",
       "      <td>9.945200</td>\n",
       "      <td>40.683600</td>\n",
       "      <td>28.702300</td>\n",
       "      <td>27.051705</td>\n",
       "    </tr>\n",
       "  </tbody>\n",
       "</table>\n",
       "<p>8 rows × 140 columns</p>\n",
       "</div>"
      ],
      "text/plain": [
       "          team1_id  team1_score     team2_id  team2_score      num_ot  \\\n",
       "count   667.000000   667.000000   667.000000   667.000000  667.000000   \n",
       "mean   1290.592204    74.797601  1295.725637    63.458771    0.056972   \n",
       "std     102.136774    10.357258   103.720235    10.110621    0.262338   \n",
       "min    1104.000000    47.000000  1101.000000    34.000000    0.000000   \n",
       "25%    1211.000000    68.000000  1211.000000    57.000000    0.000000   \n",
       "50%    1276.000000    75.000000  1295.000000    63.000000    0.000000   \n",
       "75%    1388.000000    81.000000  1388.500000    70.000000    0.000000   \n",
       "max    1463.000000   105.000000  1463.000000    96.000000    2.000000   \n",
       "\n",
       "       team1_seed  team2_seed  strongseed   weakseed       season  ...  \\\n",
       "count  667.000000  667.000000  667.000000  667.00000   667.000000  ...   \n",
       "mean     5.496252    8.892054    4.167916   10.22039  2014.520240  ...   \n",
       "std      4.179303    4.628257    3.364091    3.87310     2.864947  ...   \n",
       "min      1.000000    1.000000    1.000000    1.00000  2010.000000  ...   \n",
       "25%      2.000000    5.000000    2.000000    8.00000  2012.000000  ...   \n",
       "50%      4.000000    9.000000    3.000000   11.00000  2015.000000  ...   \n",
       "75%      8.000000   13.000000    6.000000   13.00000  2017.000000  ...   \n",
       "max     16.000000   16.000000   16.000000   16.00000  2019.000000  ...   \n",
       "\n",
       "         diff_dist    srs_diff    TOV_diff     TS_diff    TRB_diff  \\\n",
       "count   667.000000  667.000000  667.000000  667.000000  667.000000   \n",
       "mean   -194.908693    5.757616    0.495352    1.084258    0.605697   \n",
       "std    1139.123952    9.474601    2.142020    6.621598    3.445661   \n",
       "min   -3581.990105  -24.220000   -5.500000   -9.100000  -10.400000   \n",
       "25%    -803.542997   -0.510000   -1.000000   -1.850000   -1.600000   \n",
       "50%    -176.576121    4.050000    0.600000    0.600000    0.600000   \n",
       "75%     407.881326   10.910000    2.000000    3.000000    2.800000   \n",
       "max    3917.144567   36.970000    9.500000   61.600000   11.200000   \n",
       "\n",
       "         eFG_diff  adjtempo_diff  net_rating_diff  ast_stl_block_diff  \\\n",
       "count  667.000000     667.000000       667.000000          667.000000   \n",
       "mean     1.111694      -0.264110         5.636244            1.310103   \n",
       "std      6.494612       3.994642        10.539197            8.807528   \n",
       "min    -10.000000     -11.495500       -27.467200          -22.985700   \n",
       "25%     -1.900000      -2.765250        -1.177850           -4.771012   \n",
       "50%      0.700000      -0.122500         4.494200            1.207400   \n",
       "75%      3.450000       2.261950        11.674100            7.656200   \n",
       "max     58.900000       9.945200        40.683600           28.702300   \n",
       "\n",
       "       win_tempo_diff  \n",
       "count      667.000000  \n",
       "mean         3.776440  \n",
       "std          7.039637  \n",
       "min        -18.408009  \n",
       "25%         -0.812265  \n",
       "50%          3.016467  \n",
       "75%          7.786729  \n",
       "max         27.051705  \n",
       "\n",
       "[8 rows x 140 columns]"
      ]
     },
     "execution_count": 21,
     "metadata": {},
     "output_type": "execute_result"
    }
   ],
   "source": [
    "ncaa_data.describe()"
   ]
  },
  {
   "cell_type": "code",
   "execution_count": 22,
   "id": "872bd87a",
   "metadata": {},
   "outputs": [
    {
     "data": {
      "text/plain": [
       "team1_id                         0\n",
       "team2_adjtempo                   0\n",
       "team2_oe                         0\n",
       "team2_adjoe                      0\n",
       "team2_de                         0\n",
       "                                ..\n",
       "team2_pt_coach_season_wins       0\n",
       "team2_pt_coach_season_losses     0\n",
       "team1_ap_final                   0\n",
       "team2_pt_career_school_losses    0\n",
       "win_tempo_diff                   0\n",
       "Length: 154, dtype: int64"
      ]
     },
     "execution_count": 22,
     "metadata": {},
     "output_type": "execute_result"
    }
   ],
   "source": [
    "## Making sure there are no na values in dataframe\n",
    "ncaa_data.isna().sum().sort_values(ascending=True)"
   ]
  },
  {
   "cell_type": "code",
   "execution_count": 23,
   "id": "6f0b8fd9",
   "metadata": {},
   "outputs": [],
   "source": [
    "new_data_ncaa = ncaa_data[['exp_win1','team1_log5','seed_diff','srs_diff','net_rating_diff','win_tempo_diff','ast_stl_block_diff','eFG_diff','TS_diff','TRB_diff','TOV_diff']].copy()"
   ]
  },
  {
   "cell_type": "markdown",
   "id": "c4bd8d79",
   "metadata": {},
   "source": [
    "## Correlation of Variables"
   ]
  },
  {
   "cell_type": "code",
   "execution_count": 24,
   "id": "8b1dbab1",
   "metadata": {
    "scrolled": true
   },
   "outputs": [
    {
     "data": {
      "text/html": [
       "<div>\n",
       "<style scoped>\n",
       "    .dataframe tbody tr th:only-of-type {\n",
       "        vertical-align: middle;\n",
       "    }\n",
       "\n",
       "    .dataframe tbody tr th {\n",
       "        vertical-align: top;\n",
       "    }\n",
       "\n",
       "    .dataframe thead th {\n",
       "        text-align: right;\n",
       "    }\n",
       "</style>\n",
       "<table border=\"1\" class=\"dataframe\">\n",
       "  <thead>\n",
       "    <tr style=\"text-align: right;\">\n",
       "      <th></th>\n",
       "      <th>exp_win1</th>\n",
       "      <th>team1_log5</th>\n",
       "      <th>seed_diff</th>\n",
       "      <th>srs_diff</th>\n",
       "      <th>net_rating_diff</th>\n",
       "      <th>win_tempo_diff</th>\n",
       "      <th>ast_stl_block_diff</th>\n",
       "      <th>eFG_diff</th>\n",
       "      <th>TS_diff</th>\n",
       "      <th>TRB_diff</th>\n",
       "      <th>TOV_diff</th>\n",
       "    </tr>\n",
       "  </thead>\n",
       "  <tbody>\n",
       "    <tr>\n",
       "      <th>exp_win1</th>\n",
       "      <td>1.000000</td>\n",
       "      <td>0.534899</td>\n",
       "      <td>-0.460650</td>\n",
       "      <td>0.443351</td>\n",
       "      <td>0.516340</td>\n",
       "      <td>0.515734</td>\n",
       "      <td>0.125949</td>\n",
       "      <td>0.042786</td>\n",
       "      <td>0.023442</td>\n",
       "      <td>0.245870</td>\n",
       "      <td>0.209733</td>\n",
       "    </tr>\n",
       "    <tr>\n",
       "      <th>team1_log5</th>\n",
       "      <td>0.534899</td>\n",
       "      <td>1.000000</td>\n",
       "      <td>-0.870615</td>\n",
       "      <td>0.898239</td>\n",
       "      <td>0.967015</td>\n",
       "      <td>0.965802</td>\n",
       "      <td>0.302732</td>\n",
       "      <td>0.183078</td>\n",
       "      <td>0.156061</td>\n",
       "      <td>0.439391</td>\n",
       "      <td>0.341225</td>\n",
       "    </tr>\n",
       "    <tr>\n",
       "      <th>seed_diff</th>\n",
       "      <td>-0.460650</td>\n",
       "      <td>-0.870615</td>\n",
       "      <td>1.000000</td>\n",
       "      <td>-0.881950</td>\n",
       "      <td>-0.863320</td>\n",
       "      <td>-0.863297</td>\n",
       "      <td>-0.290679</td>\n",
       "      <td>-0.130995</td>\n",
       "      <td>-0.110348</td>\n",
       "      <td>-0.333836</td>\n",
       "      <td>-0.310186</td>\n",
       "    </tr>\n",
       "    <tr>\n",
       "      <th>srs_diff</th>\n",
       "      <td>0.443351</td>\n",
       "      <td>0.898239</td>\n",
       "      <td>-0.881950</td>\n",
       "      <td>1.000000</td>\n",
       "      <td>0.933103</td>\n",
       "      <td>0.934304</td>\n",
       "      <td>0.327975</td>\n",
       "      <td>0.137007</td>\n",
       "      <td>0.111126</td>\n",
       "      <td>0.396936</td>\n",
       "      <td>0.365132</td>\n",
       "    </tr>\n",
       "    <tr>\n",
       "      <th>net_rating_diff</th>\n",
       "      <td>0.516340</td>\n",
       "      <td>0.967015</td>\n",
       "      <td>-0.863320</td>\n",
       "      <td>0.933103</td>\n",
       "      <td>1.000000</td>\n",
       "      <td>0.999231</td>\n",
       "      <td>0.309555</td>\n",
       "      <td>0.225111</td>\n",
       "      <td>0.197097</td>\n",
       "      <td>0.436541</td>\n",
       "      <td>0.374913</td>\n",
       "    </tr>\n",
       "    <tr>\n",
       "      <th>win_tempo_diff</th>\n",
       "      <td>0.515734</td>\n",
       "      <td>0.965802</td>\n",
       "      <td>-0.863297</td>\n",
       "      <td>0.934304</td>\n",
       "      <td>0.999231</td>\n",
       "      <td>1.000000</td>\n",
       "      <td>0.312223</td>\n",
       "      <td>0.224436</td>\n",
       "      <td>0.196007</td>\n",
       "      <td>0.439584</td>\n",
       "      <td>0.369905</td>\n",
       "    </tr>\n",
       "    <tr>\n",
       "      <th>ast_stl_block_diff</th>\n",
       "      <td>0.125949</td>\n",
       "      <td>0.302732</td>\n",
       "      <td>-0.290679</td>\n",
       "      <td>0.327975</td>\n",
       "      <td>0.309555</td>\n",
       "      <td>0.312223</td>\n",
       "      <td>1.000000</td>\n",
       "      <td>0.016345</td>\n",
       "      <td>-0.012544</td>\n",
       "      <td>0.167422</td>\n",
       "      <td>-0.144528</td>\n",
       "    </tr>\n",
       "    <tr>\n",
       "      <th>eFG_diff</th>\n",
       "      <td>0.042786</td>\n",
       "      <td>0.183078</td>\n",
       "      <td>-0.130995</td>\n",
       "      <td>0.137007</td>\n",
       "      <td>0.225111</td>\n",
       "      <td>0.224436</td>\n",
       "      <td>0.016345</td>\n",
       "      <td>1.000000</td>\n",
       "      <td>0.988879</td>\n",
       "      <td>0.052998</td>\n",
       "      <td>0.053210</td>\n",
       "    </tr>\n",
       "    <tr>\n",
       "      <th>TS_diff</th>\n",
       "      <td>0.023442</td>\n",
       "      <td>0.156061</td>\n",
       "      <td>-0.110348</td>\n",
       "      <td>0.111126</td>\n",
       "      <td>0.197097</td>\n",
       "      <td>0.196007</td>\n",
       "      <td>-0.012544</td>\n",
       "      <td>0.988879</td>\n",
       "      <td>1.000000</td>\n",
       "      <td>0.040043</td>\n",
       "      <td>0.037389</td>\n",
       "    </tr>\n",
       "    <tr>\n",
       "      <th>TRB_diff</th>\n",
       "      <td>0.245870</td>\n",
       "      <td>0.439391</td>\n",
       "      <td>-0.333836</td>\n",
       "      <td>0.396936</td>\n",
       "      <td>0.436541</td>\n",
       "      <td>0.439584</td>\n",
       "      <td>0.167422</td>\n",
       "      <td>0.052998</td>\n",
       "      <td>0.040043</td>\n",
       "      <td>1.000000</td>\n",
       "      <td>-0.150259</td>\n",
       "    </tr>\n",
       "    <tr>\n",
       "      <th>TOV_diff</th>\n",
       "      <td>0.209733</td>\n",
       "      <td>0.341225</td>\n",
       "      <td>-0.310186</td>\n",
       "      <td>0.365132</td>\n",
       "      <td>0.374913</td>\n",
       "      <td>0.369905</td>\n",
       "      <td>-0.144528</td>\n",
       "      <td>0.053210</td>\n",
       "      <td>0.037389</td>\n",
       "      <td>-0.150259</td>\n",
       "      <td>1.000000</td>\n",
       "    </tr>\n",
       "  </tbody>\n",
       "</table>\n",
       "</div>"
      ],
      "text/plain": [
       "                    exp_win1  team1_log5  seed_diff  srs_diff  \\\n",
       "exp_win1            1.000000    0.534899  -0.460650  0.443351   \n",
       "team1_log5          0.534899    1.000000  -0.870615  0.898239   \n",
       "seed_diff          -0.460650   -0.870615   1.000000 -0.881950   \n",
       "srs_diff            0.443351    0.898239  -0.881950  1.000000   \n",
       "net_rating_diff     0.516340    0.967015  -0.863320  0.933103   \n",
       "win_tempo_diff      0.515734    0.965802  -0.863297  0.934304   \n",
       "ast_stl_block_diff  0.125949    0.302732  -0.290679  0.327975   \n",
       "eFG_diff            0.042786    0.183078  -0.130995  0.137007   \n",
       "TS_diff             0.023442    0.156061  -0.110348  0.111126   \n",
       "TRB_diff            0.245870    0.439391  -0.333836  0.396936   \n",
       "TOV_diff            0.209733    0.341225  -0.310186  0.365132   \n",
       "\n",
       "                    net_rating_diff  win_tempo_diff  ast_stl_block_diff  \\\n",
       "exp_win1                   0.516340        0.515734            0.125949   \n",
       "team1_log5                 0.967015        0.965802            0.302732   \n",
       "seed_diff                 -0.863320       -0.863297           -0.290679   \n",
       "srs_diff                   0.933103        0.934304            0.327975   \n",
       "net_rating_diff            1.000000        0.999231            0.309555   \n",
       "win_tempo_diff             0.999231        1.000000            0.312223   \n",
       "ast_stl_block_diff         0.309555        0.312223            1.000000   \n",
       "eFG_diff                   0.225111        0.224436            0.016345   \n",
       "TS_diff                    0.197097        0.196007           -0.012544   \n",
       "TRB_diff                   0.436541        0.439584            0.167422   \n",
       "TOV_diff                   0.374913        0.369905           -0.144528   \n",
       "\n",
       "                    eFG_diff   TS_diff  TRB_diff  TOV_diff  \n",
       "exp_win1            0.042786  0.023442  0.245870  0.209733  \n",
       "team1_log5          0.183078  0.156061  0.439391  0.341225  \n",
       "seed_diff          -0.130995 -0.110348 -0.333836 -0.310186  \n",
       "srs_diff            0.137007  0.111126  0.396936  0.365132  \n",
       "net_rating_diff     0.225111  0.197097  0.436541  0.374913  \n",
       "win_tempo_diff      0.224436  0.196007  0.439584  0.369905  \n",
       "ast_stl_block_diff  0.016345 -0.012544  0.167422 -0.144528  \n",
       "eFG_diff            1.000000  0.988879  0.052998  0.053210  \n",
       "TS_diff             0.988879  1.000000  0.040043  0.037389  \n",
       "TRB_diff            0.052998  0.040043  1.000000 -0.150259  \n",
       "TOV_diff            0.053210  0.037389 -0.150259  1.000000  "
      ]
     },
     "execution_count": 24,
     "metadata": {},
     "output_type": "execute_result"
    }
   ],
   "source": [
    "new_corr = new_data_ncaa.corr()\n",
    "new_corr"
   ]
  },
  {
   "cell_type": "code",
   "execution_count": 25,
   "id": "f57f6728",
   "metadata": {},
   "outputs": [],
   "source": [
    "new2data = ncaa_data.copy()"
   ]
  },
  {
   "cell_type": "code",
   "execution_count": 26,
   "id": "5c1a296b",
   "metadata": {},
   "outputs": [
    {
     "data": {
      "text/html": [
       "<div>\n",
       "<style scoped>\n",
       "    .dataframe tbody tr th:only-of-type {\n",
       "        vertical-align: middle;\n",
       "    }\n",
       "\n",
       "    .dataframe tbody tr th {\n",
       "        vertical-align: top;\n",
       "    }\n",
       "\n",
       "    .dataframe thead th {\n",
       "        text-align: right;\n",
       "    }\n",
       "</style>\n",
       "<table border=\"1\" class=\"dataframe\">\n",
       "  <thead>\n",
       "    <tr style=\"text-align: right;\">\n",
       "      <th></th>\n",
       "      <th>team1_id</th>\n",
       "      <th>team1_score</th>\n",
       "      <th>team2_id</th>\n",
       "      <th>team2_score</th>\n",
       "      <th>num_ot</th>\n",
       "      <th>team1_seed</th>\n",
       "      <th>team2_seed</th>\n",
       "      <th>strongseed</th>\n",
       "      <th>weakseed</th>\n",
       "      <th>season</th>\n",
       "      <th>...</th>\n",
       "      <th>diff_dist</th>\n",
       "      <th>srs_diff</th>\n",
       "      <th>TOV_diff</th>\n",
       "      <th>TS_diff</th>\n",
       "      <th>TRB_diff</th>\n",
       "      <th>eFG_diff</th>\n",
       "      <th>adjtempo_diff</th>\n",
       "      <th>net_rating_diff</th>\n",
       "      <th>ast_stl_block_diff</th>\n",
       "      <th>win_tempo_diff</th>\n",
       "    </tr>\n",
       "  </thead>\n",
       "  <tbody>\n",
       "    <tr>\n",
       "      <th>team1_id</th>\n",
       "      <td>1.000000</td>\n",
       "      <td>0.004949</td>\n",
       "      <td>-0.058657</td>\n",
       "      <td>-0.010808</td>\n",
       "      <td>-0.000028</td>\n",
       "      <td>0.041250</td>\n",
       "      <td>-0.013377</td>\n",
       "      <td>0.016320</td>\n",
       "      <td>0.014351</td>\n",
       "      <td>0.084300</td>\n",
       "      <td>...</td>\n",
       "      <td>0.008927</td>\n",
       "      <td>-0.015250</td>\n",
       "      <td>0.102385</td>\n",
       "      <td>-0.119415</td>\n",
       "      <td>-0.014461</td>\n",
       "      <td>-0.115367</td>\n",
       "      <td>-0.153142</td>\n",
       "      <td>-0.018362</td>\n",
       "      <td>0.064420</td>\n",
       "      <td>-0.021470</td>\n",
       "    </tr>\n",
       "    <tr>\n",
       "      <th>team1_score</th>\n",
       "      <td>0.004949</td>\n",
       "      <td>1.000000</td>\n",
       "      <td>-0.108337</td>\n",
       "      <td>0.645690</td>\n",
       "      <td>0.131903</td>\n",
       "      <td>-0.159564</td>\n",
       "      <td>0.107263</td>\n",
       "      <td>-0.122099</td>\n",
       "      <td>0.062050</td>\n",
       "      <td>0.168262</td>\n",
       "      <td>...</td>\n",
       "      <td>-0.064671</td>\n",
       "      <td>0.229837</td>\n",
       "      <td>0.030677</td>\n",
       "      <td>-0.018444</td>\n",
       "      <td>0.205107</td>\n",
       "      <td>0.000049</td>\n",
       "      <td>-0.070241</td>\n",
       "      <td>0.218886</td>\n",
       "      <td>0.111987</td>\n",
       "      <td>0.228002</td>\n",
       "    </tr>\n",
       "    <tr>\n",
       "      <th>team2_id</th>\n",
       "      <td>-0.058657</td>\n",
       "      <td>-0.108337</td>\n",
       "      <td>1.000000</td>\n",
       "      <td>-0.045837</td>\n",
       "      <td>0.031533</td>\n",
       "      <td>0.065754</td>\n",
       "      <td>-0.020152</td>\n",
       "      <td>0.043763</td>\n",
       "      <td>0.008860</td>\n",
       "      <td>-0.017103</td>\n",
       "      <td>...</td>\n",
       "      <td>-0.043062</td>\n",
       "      <td>-0.058682</td>\n",
       "      <td>-0.076936</td>\n",
       "      <td>0.134550</td>\n",
       "      <td>-0.032193</td>\n",
       "      <td>0.140935</td>\n",
       "      <td>0.058380</td>\n",
       "      <td>-0.054611</td>\n",
       "      <td>-0.068744</td>\n",
       "      <td>-0.053079</td>\n",
       "    </tr>\n",
       "    <tr>\n",
       "      <th>team2_score</th>\n",
       "      <td>-0.010808</td>\n",
       "      <td>0.645690</td>\n",
       "      <td>-0.045837</td>\n",
       "      <td>1.000000</td>\n",
       "      <td>0.277705</td>\n",
       "      <td>0.043250</td>\n",
       "      <td>-0.148273</td>\n",
       "      <td>0.006870</td>\n",
       "      <td>-0.136481</td>\n",
       "      <td>0.139584</td>\n",
       "      <td>...</td>\n",
       "      <td>0.029548</td>\n",
       "      <td>-0.175839</td>\n",
       "      <td>-0.131997</td>\n",
       "      <td>-0.046627</td>\n",
       "      <td>0.017130</td>\n",
       "      <td>-0.042229</td>\n",
       "      <td>-0.049488</td>\n",
       "      <td>-0.138692</td>\n",
       "      <td>-0.002957</td>\n",
       "      <td>-0.131299</td>\n",
       "    </tr>\n",
       "    <tr>\n",
       "      <th>num_ot</th>\n",
       "      <td>-0.000028</td>\n",
       "      <td>0.131903</td>\n",
       "      <td>0.031533</td>\n",
       "      <td>0.277705</td>\n",
       "      <td>1.000000</td>\n",
       "      <td>0.024846</td>\n",
       "      <td>-0.071600</td>\n",
       "      <td>0.026574</td>\n",
       "      <td>-0.081831</td>\n",
       "      <td>-0.049483</td>\n",
       "      <td>...</td>\n",
       "      <td>-0.009490</td>\n",
       "      <td>-0.097633</td>\n",
       "      <td>0.012763</td>\n",
       "      <td>-0.002249</td>\n",
       "      <td>-0.060989</td>\n",
       "      <td>-0.003300</td>\n",
       "      <td>-0.020537</td>\n",
       "      <td>-0.062059</td>\n",
       "      <td>-0.003048</td>\n",
       "      <td>-0.061905</td>\n",
       "    </tr>\n",
       "    <tr>\n",
       "      <th>...</th>\n",
       "      <td>...</td>\n",
       "      <td>...</td>\n",
       "      <td>...</td>\n",
       "      <td>...</td>\n",
       "      <td>...</td>\n",
       "      <td>...</td>\n",
       "      <td>...</td>\n",
       "      <td>...</td>\n",
       "      <td>...</td>\n",
       "      <td>...</td>\n",
       "      <td>...</td>\n",
       "      <td>...</td>\n",
       "      <td>...</td>\n",
       "      <td>...</td>\n",
       "      <td>...</td>\n",
       "      <td>...</td>\n",
       "      <td>...</td>\n",
       "      <td>...</td>\n",
       "      <td>...</td>\n",
       "      <td>...</td>\n",
       "      <td>...</td>\n",
       "    </tr>\n",
       "    <tr>\n",
       "      <th>eFG_diff</th>\n",
       "      <td>-0.115367</td>\n",
       "      <td>0.000049</td>\n",
       "      <td>0.140935</td>\n",
       "      <td>-0.042229</td>\n",
       "      <td>-0.003300</td>\n",
       "      <td>-0.066994</td>\n",
       "      <td>0.127131</td>\n",
       "      <td>-0.018563</td>\n",
       "      <td>0.095750</td>\n",
       "      <td>-0.024060</td>\n",
       "      <td>...</td>\n",
       "      <td>-0.127798</td>\n",
       "      <td>0.137007</td>\n",
       "      <td>0.053210</td>\n",
       "      <td>0.988879</td>\n",
       "      <td>0.052998</td>\n",
       "      <td>1.000000</td>\n",
       "      <td>-0.018278</td>\n",
       "      <td>0.225111</td>\n",
       "      <td>0.016345</td>\n",
       "      <td>0.224436</td>\n",
       "    </tr>\n",
       "    <tr>\n",
       "      <th>adjtempo_diff</th>\n",
       "      <td>-0.153142</td>\n",
       "      <td>-0.070241</td>\n",
       "      <td>0.058380</td>\n",
       "      <td>-0.049488</td>\n",
       "      <td>-0.020537</td>\n",
       "      <td>-0.020470</td>\n",
       "      <td>-0.029152</td>\n",
       "      <td>-0.065996</td>\n",
       "      <td>0.000399</td>\n",
       "      <td>-0.033482</td>\n",
       "      <td>...</td>\n",
       "      <td>0.024991</td>\n",
       "      <td>0.023810</td>\n",
       "      <td>-0.067852</td>\n",
       "      <td>-0.025234</td>\n",
       "      <td>-0.050789</td>\n",
       "      <td>-0.018278</td>\n",
       "      <td>1.000000</td>\n",
       "      <td>-0.035706</td>\n",
       "      <td>0.028332</td>\n",
       "      <td>-0.030341</td>\n",
       "    </tr>\n",
       "    <tr>\n",
       "      <th>net_rating_diff</th>\n",
       "      <td>-0.018362</td>\n",
       "      <td>0.218886</td>\n",
       "      <td>-0.054611</td>\n",
       "      <td>-0.138692</td>\n",
       "      <td>-0.062059</td>\n",
       "      <td>-0.626405</td>\n",
       "      <td>0.670903</td>\n",
       "      <td>-0.296535</td>\n",
       "      <td>0.383348</td>\n",
       "      <td>0.066248</td>\n",
       "      <td>...</td>\n",
       "      <td>-0.225810</td>\n",
       "      <td>0.933103</td>\n",
       "      <td>0.374913</td>\n",
       "      <td>0.197097</td>\n",
       "      <td>0.436541</td>\n",
       "      <td>0.225111</td>\n",
       "      <td>-0.035706</td>\n",
       "      <td>1.000000</td>\n",
       "      <td>0.309555</td>\n",
       "      <td>0.999231</td>\n",
       "    </tr>\n",
       "    <tr>\n",
       "      <th>ast_stl_block_diff</th>\n",
       "      <td>0.064420</td>\n",
       "      <td>0.111987</td>\n",
       "      <td>-0.068744</td>\n",
       "      <td>-0.002957</td>\n",
       "      <td>-0.003048</td>\n",
       "      <td>-0.170452</td>\n",
       "      <td>0.262426</td>\n",
       "      <td>-0.060471</td>\n",
       "      <td>0.182187</td>\n",
       "      <td>0.077458</td>\n",
       "      <td>...</td>\n",
       "      <td>-0.047007</td>\n",
       "      <td>0.327975</td>\n",
       "      <td>-0.144528</td>\n",
       "      <td>-0.012544</td>\n",
       "      <td>0.167422</td>\n",
       "      <td>0.016345</td>\n",
       "      <td>0.028332</td>\n",
       "      <td>0.309555</td>\n",
       "      <td>1.000000</td>\n",
       "      <td>0.312223</td>\n",
       "    </tr>\n",
       "    <tr>\n",
       "      <th>win_tempo_diff</th>\n",
       "      <td>-0.021470</td>\n",
       "      <td>0.228002</td>\n",
       "      <td>-0.053079</td>\n",
       "      <td>-0.131299</td>\n",
       "      <td>-0.061905</td>\n",
       "      <td>-0.626293</td>\n",
       "      <td>0.670972</td>\n",
       "      <td>-0.298087</td>\n",
       "      <td>0.384898</td>\n",
       "      <td>0.067462</td>\n",
       "      <td>...</td>\n",
       "      <td>-0.228233</td>\n",
       "      <td>0.934304</td>\n",
       "      <td>0.369905</td>\n",
       "      <td>0.196007</td>\n",
       "      <td>0.439584</td>\n",
       "      <td>0.224436</td>\n",
       "      <td>-0.030341</td>\n",
       "      <td>0.999231</td>\n",
       "      <td>0.312223</td>\n",
       "      <td>1.000000</td>\n",
       "    </tr>\n",
       "  </tbody>\n",
       "</table>\n",
       "<p>140 rows × 140 columns</p>\n",
       "</div>"
      ],
      "text/plain": [
       "                    team1_id  team1_score  team2_id  team2_score    num_ot  \\\n",
       "team1_id            1.000000     0.004949 -0.058657    -0.010808 -0.000028   \n",
       "team1_score         0.004949     1.000000 -0.108337     0.645690  0.131903   \n",
       "team2_id           -0.058657    -0.108337  1.000000    -0.045837  0.031533   \n",
       "team2_score        -0.010808     0.645690 -0.045837     1.000000  0.277705   \n",
       "num_ot             -0.000028     0.131903  0.031533     0.277705  1.000000   \n",
       "...                      ...          ...       ...          ...       ...   \n",
       "eFG_diff           -0.115367     0.000049  0.140935    -0.042229 -0.003300   \n",
       "adjtempo_diff      -0.153142    -0.070241  0.058380    -0.049488 -0.020537   \n",
       "net_rating_diff    -0.018362     0.218886 -0.054611    -0.138692 -0.062059   \n",
       "ast_stl_block_diff  0.064420     0.111987 -0.068744    -0.002957 -0.003048   \n",
       "win_tempo_diff     -0.021470     0.228002 -0.053079    -0.131299 -0.061905   \n",
       "\n",
       "                    team1_seed  team2_seed  strongseed  weakseed    season  \\\n",
       "team1_id              0.041250   -0.013377    0.016320  0.014351  0.084300   \n",
       "team1_score          -0.159564    0.107263   -0.122099  0.062050  0.168262   \n",
       "team2_id              0.065754   -0.020152    0.043763  0.008860 -0.017103   \n",
       "team2_score           0.043250   -0.148273    0.006870 -0.136481  0.139584   \n",
       "num_ot                0.024846   -0.071600    0.026574 -0.081831 -0.049483   \n",
       "...                        ...         ...         ...       ...       ...   \n",
       "eFG_diff             -0.066994    0.127131   -0.018563  0.095750 -0.024060   \n",
       "adjtempo_diff        -0.020470   -0.029152   -0.065996  0.000399 -0.033482   \n",
       "net_rating_diff      -0.626405    0.670903   -0.296535  0.383348  0.066248   \n",
       "ast_stl_block_diff   -0.170452    0.262426   -0.060471  0.182187  0.077458   \n",
       "win_tempo_diff       -0.626293    0.670972   -0.298087  0.384898  0.067462   \n",
       "\n",
       "                    ...  diff_dist  srs_diff  TOV_diff   TS_diff  TRB_diff  \\\n",
       "team1_id            ...   0.008927 -0.015250  0.102385 -0.119415 -0.014461   \n",
       "team1_score         ...  -0.064671  0.229837  0.030677 -0.018444  0.205107   \n",
       "team2_id            ...  -0.043062 -0.058682 -0.076936  0.134550 -0.032193   \n",
       "team2_score         ...   0.029548 -0.175839 -0.131997 -0.046627  0.017130   \n",
       "num_ot              ...  -0.009490 -0.097633  0.012763 -0.002249 -0.060989   \n",
       "...                 ...        ...       ...       ...       ...       ...   \n",
       "eFG_diff            ...  -0.127798  0.137007  0.053210  0.988879  0.052998   \n",
       "adjtempo_diff       ...   0.024991  0.023810 -0.067852 -0.025234 -0.050789   \n",
       "net_rating_diff     ...  -0.225810  0.933103  0.374913  0.197097  0.436541   \n",
       "ast_stl_block_diff  ...  -0.047007  0.327975 -0.144528 -0.012544  0.167422   \n",
       "win_tempo_diff      ...  -0.228233  0.934304  0.369905  0.196007  0.439584   \n",
       "\n",
       "                    eFG_diff  adjtempo_diff  net_rating_diff  \\\n",
       "team1_id           -0.115367      -0.153142        -0.018362   \n",
       "team1_score         0.000049      -0.070241         0.218886   \n",
       "team2_id            0.140935       0.058380        -0.054611   \n",
       "team2_score        -0.042229      -0.049488        -0.138692   \n",
       "num_ot             -0.003300      -0.020537        -0.062059   \n",
       "...                      ...            ...              ...   \n",
       "eFG_diff            1.000000      -0.018278         0.225111   \n",
       "adjtempo_diff      -0.018278       1.000000        -0.035706   \n",
       "net_rating_diff     0.225111      -0.035706         1.000000   \n",
       "ast_stl_block_diff  0.016345       0.028332         0.309555   \n",
       "win_tempo_diff      0.224436      -0.030341         0.999231   \n",
       "\n",
       "                    ast_stl_block_diff  win_tempo_diff  \n",
       "team1_id                      0.064420       -0.021470  \n",
       "team1_score                   0.111987        0.228002  \n",
       "team2_id                     -0.068744       -0.053079  \n",
       "team2_score                  -0.002957       -0.131299  \n",
       "num_ot                       -0.003048       -0.061905  \n",
       "...                                ...             ...  \n",
       "eFG_diff                      0.016345        0.224436  \n",
       "adjtempo_diff                 0.028332       -0.030341  \n",
       "net_rating_diff               0.309555        0.999231  \n",
       "ast_stl_block_diff            1.000000        0.312223  \n",
       "win_tempo_diff                0.312223        1.000000  \n",
       "\n",
       "[140 rows x 140 columns]"
      ]
     },
     "execution_count": 26,
     "metadata": {},
     "output_type": "execute_result"
    }
   ],
   "source": [
    "corr = new2data.corr()\n",
    "corr"
   ]
  },
  {
   "cell_type": "code",
   "execution_count": 27,
   "id": "eb926627",
   "metadata": {},
   "outputs": [
    {
     "data": {
      "application/javascript": "\n        if (window._pyforest_update_imports_cell) { window._pyforest_update_imports_cell('import seaborn as sns'); }\n    ",
      "text/plain": [
       "<IPython.core.display.Javascript object>"
      ]
     },
     "metadata": {},
     "output_type": "display_data"
    },
    {
     "data": {
      "image/png": "[encoded data removed]",
      "text/plain": [
       "<Figure size 432x288 with 2 Axes>"
      ]
     },
     "metadata": {},
     "output_type": "display_data"
    }
   ],
   "source": [
    "sns.heatmap(data=new_corr, annot = True, cmap = \"rainbow\");"
   ]
  },
  {
   "cell_type": "code",
   "execution_count": 28,
   "id": "153d13f6",
   "metadata": {},
   "outputs": [
    {
     "data": {
      "image/png": "[encoded data removed]",
      "text/plain": [
       "<Figure size 576x288 with 1 Axes>"
      ]
     },
     "metadata": {},
     "output_type": "display_data"
    }
   ],
   "source": [
    "ncaa_data.plot(x=\"team1_log5\", y = \"TOV_diff\", kind=\"scatter\", figsize=(8,4), color=\"green\" );"
   ]
  },
  {
   "cell_type": "markdown",
   "id": "b068f56e",
   "metadata": {},
   "source": [
    "## First Logistic Regression Model"
   ]
  },
  {
   "cell_type": "markdown",
   "id": "96cb4913",
   "metadata": {},
   "source": [
    "### Split Data"
   ]
  },
  {
   "cell_type": "code",
   "execution_count": 29,
   "id": "555c15dd",
   "metadata": {},
   "outputs": [],
   "source": [
    "ncaa_data.dropna(subset=['team1_log5'], inplace=True)"
   ]
  },
  {
   "cell_type": "code",
   "execution_count": 30,
   "id": "1ecc3769",
   "metadata": {},
   "outputs": [],
   "source": [
    "ncaa_data['team1_win'] = (ncaa_data['team1_score']>ncaa_data['team2_score']).astype(int)"
   ]
  },
  {
   "cell_type": "code",
   "execution_count": 31,
   "id": "5611ca98",
   "metadata": {},
   "outputs": [],
   "source": [
    "## Training data, creating sample training set\n",
    "training_columns = ['game_id','season','team1_win','exp_win1','exp_win2','team2_score',\n",
    "                                    'team1_score','team1_id','team2_id','team1_log5','seed_diff','TS_diff','eFG_diff','adjtempo_diff','TRB_diff','TOV_diff','srs_diff','net_rating_diff']\n",
    "ncaa_data_1 = ncaa_data.sample(frac=.5, random_state=15)[training_columns]\n",
    "ncaa_data_2 = ncaa_data[~ncaa_data.index.isin(ncaa_data_1.index)][training_columns].reset_index(drop=True)\n",
    "ncaa_data_1 = ncaa_data_1.reset_index(drop=True)"
   ]
  },
  {
   "cell_type": "code",
   "execution_count": 32,
   "id": "f383304e",
   "metadata": {},
   "outputs": [],
   "source": [
    "ncaa_data_2['team1_win'] = 0\n",
    "ncaa_data_2['team1_log5'] = 1-ncaa_data_2['team1_log5']\n",
    "ncaa_data_2['game_id'] = (ncaa_data_2['game_id'].str.split('-', expand=True)[0] \n",
    "                           + '-' + ncaa_data_2['game_id'].str.split('-', expand=True)[2] \n",
    "                           + '-' + ncaa_data_2['game_id'].str.split('-', expand=True)[1]\n",
    "                           ) \n",
    "ncaa_data_2['seed_diff'] = ncaa_data_2['seed_diff']*-1\n",
    "ncaa_data_2.columns = ['game_id','season','team1_win','exp_win1','exp_win2','team2_score',\n",
    "                                    'team1_score','team1_id','team2_id','team1_log5','seed_diff','TS_diff','eFG_diff','adjtempo_diff','TRB_diff','TOV_diff','srs_diff','net_rating_diff']"
   ]
  },
  {
   "cell_type": "code",
   "execution_count": 33,
   "id": "8a66a4ab",
   "metadata": {},
   "outputs": [],
   "source": [
    "ncaa_train = pd.concat([ncaa_data_2, ncaa_data_1]).reset_index(drop=True)"
   ]
  },
  {
   "cell_type": "code",
   "execution_count": 34,
   "id": "03864259",
   "metadata": {},
   "outputs": [],
   "source": [
    "train, test = train_test_split(ncaa_train, train_size=.7)"
   ]
  },
  {
   "cell_type": "code",
   "execution_count": 35,
   "id": "dd6ff807",
   "metadata": {},
   "outputs": [],
   "source": [
    "train = train.reset_index(drop=True)\n",
    "test = test.reset_index(drop=True)"
   ]
  },
  {
   "cell_type": "code",
   "execution_count": 36,
   "id": "b6062820",
   "metadata": {},
   "outputs": [
    {
     "data": {
      "text/html": [
       "<div>\n",
       "<style scoped>\n",
       "    .dataframe tbody tr th:only-of-type {\n",
       "        vertical-align: middle;\n",
       "    }\n",
       "\n",
       "    .dataframe tbody tr th {\n",
       "        vertical-align: top;\n",
       "    }\n",
       "\n",
       "    .dataframe thead th {\n",
       "        text-align: right;\n",
       "    }\n",
       "</style>\n",
       "<table border=\"1\" class=\"dataframe\">\n",
       "  <thead>\n",
       "    <tr style=\"text-align: right;\">\n",
       "      <th></th>\n",
       "      <th>game_id</th>\n",
       "      <th>season</th>\n",
       "      <th>team1_win</th>\n",
       "      <th>exp_win1</th>\n",
       "      <th>exp_win2</th>\n",
       "      <th>team2_score</th>\n",
       "      <th>team1_score</th>\n",
       "      <th>team1_id</th>\n",
       "      <th>team2_id</th>\n",
       "      <th>team1_log5</th>\n",
       "      <th>seed_diff</th>\n",
       "      <th>TS_diff</th>\n",
       "      <th>eFG_diff</th>\n",
       "      <th>adjtempo_diff</th>\n",
       "      <th>TRB_diff</th>\n",
       "      <th>TOV_diff</th>\n",
       "      <th>srs_diff</th>\n",
       "      <th>net_rating_diff</th>\n",
       "    </tr>\n",
       "  </thead>\n",
       "  <tbody>\n",
       "    <tr>\n",
       "      <th>0</th>\n",
       "      <td>2015-1209-1124</td>\n",
       "      <td>2015</td>\n",
       "      <td>1</td>\n",
       "      <td>0.734433</td>\n",
       "      <td>0.903814</td>\n",
       "      <td>56</td>\n",
       "      <td>57</td>\n",
       "      <td>1209</td>\n",
       "      <td>1124</td>\n",
       "      <td>0.227390</td>\n",
       "      <td>11</td>\n",
       "      <td>3.3</td>\n",
       "      <td>3.0</td>\n",
       "      <td>1.1199</td>\n",
       "      <td>-7.0</td>\n",
       "      <td>2.2</td>\n",
       "      <td>-12.38</td>\n",
       "      <td>-11.1523</td>\n",
       "    </tr>\n",
       "    <tr>\n",
       "      <th>1</th>\n",
       "      <td>2011-1163-1361</td>\n",
       "      <td>2011</td>\n",
       "      <td>1</td>\n",
       "      <td>0.902118</td>\n",
       "      <td>0.935938</td>\n",
       "      <td>67</td>\n",
       "      <td>74</td>\n",
       "      <td>1163</td>\n",
       "      <td>1361</td>\n",
       "      <td>0.386814</td>\n",
       "      <td>1</td>\n",
       "      <td>-1.7</td>\n",
       "      <td>-3.3</td>\n",
       "      <td>2.0952</td>\n",
       "      <td>-2.0</td>\n",
       "      <td>-0.1</td>\n",
       "      <td>-0.01</td>\n",
       "      <td>-3.2645</td>\n",
       "    </tr>\n",
       "    <tr>\n",
       "      <th>2</th>\n",
       "      <td>2018-1113-1393</td>\n",
       "      <td>2018</td>\n",
       "      <td>0</td>\n",
       "      <td>0.631139</td>\n",
       "      <td>0.758328</td>\n",
       "      <td>56</td>\n",
       "      <td>60</td>\n",
       "      <td>1393</td>\n",
       "      <td>1113</td>\n",
       "      <td>0.647126</td>\n",
       "      <td>0</td>\n",
       "      <td>-5.8</td>\n",
       "      <td>-6.9</td>\n",
       "      <td>-8.2000</td>\n",
       "      <td>3.6</td>\n",
       "      <td>-3.2</td>\n",
       "      <td>-1.48</td>\n",
       "      <td>-6.1000</td>\n",
       "    </tr>\n",
       "    <tr>\n",
       "      <th>3</th>\n",
       "      <td>2019-1125-1268</td>\n",
       "      <td>2019</td>\n",
       "      <td>0</td>\n",
       "      <td>0.901775</td>\n",
       "      <td>0.800207</td>\n",
       "      <td>77</td>\n",
       "      <td>79</td>\n",
       "      <td>1268</td>\n",
       "      <td>1125</td>\n",
       "      <td>0.303748</td>\n",
       "      <td>5</td>\n",
       "      <td>-5.3</td>\n",
       "      <td>-6.6</td>\n",
       "      <td>-5.4959</td>\n",
       "      <td>3.8</td>\n",
       "      <td>-2.8</td>\n",
       "      <td>6.89</td>\n",
       "      <td>6.9140</td>\n",
       "    </tr>\n",
       "    <tr>\n",
       "      <th>4</th>\n",
       "      <td>2014-1217-1153</td>\n",
       "      <td>2014</td>\n",
       "      <td>1</td>\n",
       "      <td>0.840196</td>\n",
       "      <td>0.870061</td>\n",
       "      <td>57</td>\n",
       "      <td>61</td>\n",
       "      <td>1217</td>\n",
       "      <td>1153</td>\n",
       "      <td>0.439841</td>\n",
       "      <td>7</td>\n",
       "      <td>4.5</td>\n",
       "      <td>4.2</td>\n",
       "      <td>1.9359</td>\n",
       "      <td>-1.1</td>\n",
       "      <td>-0.6</td>\n",
       "      <td>-4.47</td>\n",
       "      <td>-1.4935</td>\n",
       "    </tr>\n",
       "    <tr>\n",
       "      <th>...</th>\n",
       "      <td>...</td>\n",
       "      <td>...</td>\n",
       "      <td>...</td>\n",
       "      <td>...</td>\n",
       "      <td>...</td>\n",
       "      <td>...</td>\n",
       "      <td>...</td>\n",
       "      <td>...</td>\n",
       "      <td>...</td>\n",
       "      <td>...</td>\n",
       "      <td>...</td>\n",
       "      <td>...</td>\n",
       "      <td>...</td>\n",
       "      <td>...</td>\n",
       "      <td>...</td>\n",
       "      <td>...</td>\n",
       "      <td>...</td>\n",
       "      <td>...</td>\n",
       "    </tr>\n",
       "    <tr>\n",
       "      <th>461</th>\n",
       "      <td>2018-1211-1326</td>\n",
       "      <td>2018</td>\n",
       "      <td>1</td>\n",
       "      <td>0.935503</td>\n",
       "      <td>0.813854</td>\n",
       "      <td>84</td>\n",
       "      <td>90</td>\n",
       "      <td>1211</td>\n",
       "      <td>1326</td>\n",
       "      <td>0.768386</td>\n",
       "      <td>-1</td>\n",
       "      <td>2.3</td>\n",
       "      <td>2.9</td>\n",
       "      <td>2.6000</td>\n",
       "      <td>2.4</td>\n",
       "      <td>1.0</td>\n",
       "      <td>0.77</td>\n",
       "      <td>11.5000</td>\n",
       "    </tr>\n",
       "    <tr>\n",
       "      <th>462</th>\n",
       "      <td>2017-1376-1181</td>\n",
       "      <td>2017</td>\n",
       "      <td>1</td>\n",
       "      <td>0.882852</td>\n",
       "      <td>0.935206</td>\n",
       "      <td>81</td>\n",
       "      <td>88</td>\n",
       "      <td>1376</td>\n",
       "      <td>1181</td>\n",
       "      <td>0.343027</td>\n",
       "      <td>5</td>\n",
       "      <td>-7.0</td>\n",
       "      <td>-7.1</td>\n",
       "      <td>0.2280</td>\n",
       "      <td>-1.1</td>\n",
       "      <td>-1.3</td>\n",
       "      <td>-4.04</td>\n",
       "      <td>-8.0796</td>\n",
       "    </tr>\n",
       "    <tr>\n",
       "      <th>463</th>\n",
       "      <td>2016-1455-1112</td>\n",
       "      <td>2016</td>\n",
       "      <td>1</td>\n",
       "      <td>0.919546</td>\n",
       "      <td>0.916016</td>\n",
       "      <td>55</td>\n",
       "      <td>65</td>\n",
       "      <td>1455</td>\n",
       "      <td>1112</td>\n",
       "      <td>0.511695</td>\n",
       "      <td>5</td>\n",
       "      <td>-4.4</td>\n",
       "      <td>-4.6</td>\n",
       "      <td>-3.1369</td>\n",
       "      <td>-3.4</td>\n",
       "      <td>3.0</td>\n",
       "      <td>-1.40</td>\n",
       "      <td>-0.6832</td>\n",
       "    </tr>\n",
       "    <tr>\n",
       "      <th>464</th>\n",
       "      <td>2019-1199-1293</td>\n",
       "      <td>2019</td>\n",
       "      <td>1</td>\n",
       "      <td>0.928100</td>\n",
       "      <td>0.810028</td>\n",
       "      <td>62</td>\n",
       "      <td>90</td>\n",
       "      <td>1199</td>\n",
       "      <td>1293</td>\n",
       "      <td>0.751696</td>\n",
       "      <td>-8</td>\n",
       "      <td>-4.1</td>\n",
       "      <td>-5.2</td>\n",
       "      <td>-0.7665</td>\n",
       "      <td>1.1</td>\n",
       "      <td>-1.5</td>\n",
       "      <td>9.03</td>\n",
       "      <td>9.2708</td>\n",
       "    </tr>\n",
       "    <tr>\n",
       "      <th>465</th>\n",
       "      <td>2016-1403-1139</td>\n",
       "      <td>2016</td>\n",
       "      <td>0</td>\n",
       "      <td>0.843812</td>\n",
       "      <td>0.832501</td>\n",
       "      <td>61</td>\n",
       "      <td>71</td>\n",
       "      <td>1139</td>\n",
       "      <td>1403</td>\n",
       "      <td>0.479160</td>\n",
       "      <td>-1</td>\n",
       "      <td>1.7</td>\n",
       "      <td>2.6</td>\n",
       "      <td>2.0962</td>\n",
       "      <td>2.2</td>\n",
       "      <td>3.0</td>\n",
       "      <td>4.05</td>\n",
       "      <td>1.1860</td>\n",
       "    </tr>\n",
       "  </tbody>\n",
       "</table>\n",
       "<p>466 rows × 18 columns</p>\n",
       "</div>"
      ],
      "text/plain": [
       "            game_id  season  team1_win  exp_win1  exp_win2  team2_score  \\\n",
       "0    2015-1209-1124    2015          1  0.734433  0.903814           56   \n",
       "1    2011-1163-1361    2011          1  0.902118  0.935938           67   \n",
       "2    2018-1113-1393    2018          0  0.631139  0.758328           56   \n",
       "3    2019-1125-1268    2019          0  0.901775  0.800207           77   \n",
       "4    2014-1217-1153    2014          1  0.840196  0.870061           57   \n",
       "..              ...     ...        ...       ...       ...          ...   \n",
       "461  2018-1211-1326    2018          1  0.935503  0.813854           84   \n",
       "462  2017-1376-1181    2017          1  0.882852  0.935206           81   \n",
       "463  2016-1455-1112    2016          1  0.919546  0.916016           55   \n",
       "464  2019-1199-1293    2019          1  0.928100  0.810028           62   \n",
       "465  2016-1403-1139    2016          0  0.843812  0.832501           61   \n",
       "\n",
       "     team1_score  team1_id  team2_id  team1_log5  seed_diff  TS_diff  \\\n",
       "0             57      1209      1124    0.227390         11      3.3   \n",
       "1             74      1163      1361    0.386814          1     -1.7   \n",
       "2             60      1393      1113    0.647126          0     -5.8   \n",
       "3             79      1268      1125    0.303748          5     -5.3   \n",
       "4             61      1217      1153    0.439841          7      4.5   \n",
       "..           ...       ...       ...         ...        ...      ...   \n",
       "461           90      1211      1326    0.768386         -1      2.3   \n",
       "462           88      1376      1181    0.343027          5     -7.0   \n",
       "463           65      1455      1112    0.511695          5     -4.4   \n",
       "464           90      1199      1293    0.751696         -8     -4.1   \n",
       "465           71      1139      1403    0.479160         -1      1.7   \n",
       "\n",
       "     eFG_diff  adjtempo_diff  TRB_diff  TOV_diff  srs_diff  net_rating_diff  \n",
       "0         3.0         1.1199      -7.0       2.2    -12.38         -11.1523  \n",
       "1        -3.3         2.0952      -2.0      -0.1     -0.01          -3.2645  \n",
       "2        -6.9        -8.2000       3.6      -3.2     -1.48          -6.1000  \n",
       "3        -6.6        -5.4959       3.8      -2.8      6.89           6.9140  \n",
       "4         4.2         1.9359      -1.1      -0.6     -4.47          -1.4935  \n",
       "..        ...            ...       ...       ...       ...              ...  \n",
       "461       2.9         2.6000       2.4       1.0      0.77          11.5000  \n",
       "462      -7.1         0.2280      -1.1      -1.3     -4.04          -8.0796  \n",
       "463      -4.6        -3.1369      -3.4       3.0     -1.40          -0.6832  \n",
       "464      -5.2        -0.7665       1.1      -1.5      9.03           9.2708  \n",
       "465       2.6         2.0962       2.2       3.0      4.05           1.1860  \n",
       "\n",
       "[466 rows x 18 columns]"
      ]
     },
     "execution_count": 36,
     "metadata": {},
     "output_type": "execute_result"
    }
   ],
   "source": [
    "train"
   ]
  },
  {
   "cell_type": "markdown",
   "id": "de194c51",
   "metadata": {},
   "source": [
    "### Initial Check"
   ]
  },
  {
   "cell_type": "code",
   "execution_count": 37,
   "id": "97fb7af3",
   "metadata": {},
   "outputs": [
    {
     "data": {
      "text/plain": [
       "team1_win\n",
       "0    0.389990\n",
       "1    0.615939\n",
       "Name: team1_log5, dtype: float64"
      ]
     },
     "execution_count": 37,
     "metadata": {},
     "output_type": "execute_result"
    }
   ],
   "source": [
    "train.groupby('team1_win')['team1_log5'].mean()"
   ]
  },
  {
   "cell_type": "code",
   "execution_count": 38,
   "id": "f9dc5296",
   "metadata": {},
   "outputs": [
    {
     "data": {
      "text/plain": [
       "team1_win\n",
       "0    3.195833\n",
       "1   -3.570796\n",
       "Name: seed_diff, dtype: float64"
      ]
     },
     "execution_count": 38,
     "metadata": {},
     "output_type": "execute_result"
    }
   ],
   "source": [
    "train.groupby('team1_win')['seed_diff'].mean()"
   ]
  },
  {
   "cell_type": "code",
   "execution_count": 39,
   "id": "33008ab2",
   "metadata": {},
   "outputs": [
    {
     "data": {
      "text/plain": [
       "team1_win\n",
       "0    5.461257\n",
       "1    5.741332\n",
       "Name: net_rating_diff, dtype: float64"
      ]
     },
     "execution_count": 39,
     "metadata": {},
     "output_type": "execute_result"
    }
   ],
   "source": [
    "train.groupby('team1_win')['net_rating_diff'].mean()"
   ]
  },
  {
   "cell_type": "code",
   "execution_count": 40,
   "id": "f6413fc6",
   "metadata": {},
   "outputs": [
    {
     "data": {
      "text/plain": [
       "team1_win\n",
       "0    5.559625\n",
       "1    5.792345\n",
       "Name: srs_diff, dtype: float64"
      ]
     },
     "execution_count": 40,
     "metadata": {},
     "output_type": "execute_result"
    }
   ],
   "source": [
    "train.groupby('team1_win')['srs_diff'].mean()"
   ]
  },
  {
   "cell_type": "markdown",
   "id": "00b53d72",
   "metadata": {},
   "source": [
    "### Training Logistic Regression Model"
   ]
  },
  {
   "cell_type": "code",
   "execution_count": 41,
   "id": "0ebb73ae",
   "metadata": {},
   "outputs": [
    {
     "data": {
      "text/plain": [
       "LogisticRegression()"
      ]
     },
     "execution_count": 41,
     "metadata": {},
     "output_type": "execute_result"
    }
   ],
   "source": [
    "logit = LogisticRegression()\n",
    "logit.fit(train[['team1_log5','seed_diff','TS_diff','eFG_diff','adjtempo_diff','TRB_diff','TOV_diff','srs_diff','net_rating_diff']], train['team1_win'])"
   ]
  },
  {
   "cell_type": "code",
   "execution_count": 42,
   "id": "650d9a12",
   "metadata": {},
   "outputs": [
    {
     "name": "stdout",
     "output_type": "stream",
     "text": [
      "Optimization terminated successfully.\n",
      "         Current function value: 0.557286\n",
      "         Iterations 6\n"
     ]
    },
    {
     "data": {
      "text/html": [
       "<table class=\"simpletable\">\n",
       "<caption>Logit Regression Results</caption>\n",
       "<tr>\n",
       "  <th>Dep. Variable:</th>       <td>team1_win</td>    <th>  No. Observations:  </th>  <td>   466</td>  \n",
       "</tr>\n",
       "<tr>\n",
       "  <th>Model:</th>                 <td>Logit</td>      <th>  Df Residuals:      </th>  <td>   456</td>  \n",
       "</tr>\n",
       "<tr>\n",
       "  <th>Method:</th>                 <td>MLE</td>       <th>  Df Model:          </th>  <td>     9</td>  \n",
       "</tr>\n",
       "<tr>\n",
       "  <th>Date:</th>            <td>Mon, 06 Jun 2022</td> <th>  Pseudo R-squ.:     </th>  <td>0.1955</td>  \n",
       "</tr>\n",
       "<tr>\n",
       "  <th>Time:</th>                <td>19:29:19</td>     <th>  Log-Likelihood:    </th> <td> -259.70</td> \n",
       "</tr>\n",
       "<tr>\n",
       "  <th>converged:</th>             <td>True</td>       <th>  LL-Null:           </th> <td> -322.80</td> \n",
       "</tr>\n",
       "<tr>\n",
       "  <th>Covariance Type:</th>     <td>nonrobust</td>    <th>  LLR p-value:       </th> <td>7.153e-23</td>\n",
       "</tr>\n",
       "</table>\n",
       "<table class=\"simpletable\">\n",
       "<tr>\n",
       "         <td></td>            <th>coef</th>     <th>std err</th>      <th>z</th>      <th>P>|z|</th>  <th>[0.025</th>    <th>0.975]</th>  \n",
       "</tr>\n",
       "<tr>\n",
       "  <th>Intercept</th>       <td>   -1.7899</td> <td>    0.519</td> <td>   -3.450</td> <td> 0.001</td> <td>   -2.807</td> <td>   -0.773</td>\n",
       "</tr>\n",
       "<tr>\n",
       "  <th>team1_log5</th>      <td>    3.3510</td> <td>    1.000</td> <td>    3.352</td> <td> 0.001</td> <td>    1.392</td> <td>    5.310</td>\n",
       "</tr>\n",
       "<tr>\n",
       "  <th>seed_diff</th>       <td>   -0.0628</td> <td>    0.032</td> <td>   -1.938</td> <td> 0.053</td> <td>   -0.126</td> <td>    0.001</td>\n",
       "</tr>\n",
       "<tr>\n",
       "  <th>TS_diff</th>         <td>   -0.0948</td> <td>    0.115</td> <td>   -0.825</td> <td> 0.410</td> <td>   -0.320</td> <td>    0.131</td>\n",
       "</tr>\n",
       "<tr>\n",
       "  <th>eFG_diff</th>        <td>    0.0701</td> <td>    0.116</td> <td>    0.603</td> <td> 0.547</td> <td>   -0.158</td> <td>    0.298</td>\n",
       "</tr>\n",
       "<tr>\n",
       "  <th>adjtempo_diff</th>   <td>   -0.0186</td> <td>    0.028</td> <td>   -0.677</td> <td> 0.498</td> <td>   -0.073</td> <td>    0.035</td>\n",
       "</tr>\n",
       "<tr>\n",
       "  <th>TOV_diff</th>        <td>   -0.0663</td> <td>    0.060</td> <td>   -1.114</td> <td> 0.265</td> <td>   -0.183</td> <td>    0.050</td>\n",
       "</tr>\n",
       "<tr>\n",
       "  <th>TRB_diff</th>        <td>   -0.0887</td> <td>    0.040</td> <td>   -2.230</td> <td> 0.026</td> <td>   -0.167</td> <td>   -0.011</td>\n",
       "</tr>\n",
       "<tr>\n",
       "  <th>srs_diff</th>        <td>   -0.0239</td> <td>    0.033</td> <td>   -0.729</td> <td> 0.466</td> <td>   -0.088</td> <td>    0.040</td>\n",
       "</tr>\n",
       "<tr>\n",
       "  <th>net_rating_diff</th> <td>    0.0529</td> <td>    0.031</td> <td>    1.684</td> <td> 0.092</td> <td>   -0.009</td> <td>    0.115</td>\n",
       "</tr>\n",
       "</table>"
      ],
      "text/plain": [
       "<class 'statsmodels.iolib.summary.Summary'>\n",
       "\"\"\"\n",
       "                           Logit Regression Results                           \n",
       "==============================================================================\n",
       "Dep. Variable:              team1_win   No. Observations:                  466\n",
       "Model:                          Logit   Df Residuals:                      456\n",
       "Method:                           MLE   Df Model:                            9\n",
       "Date:                Mon, 06 Jun 2022   Pseudo R-squ.:                  0.1955\n",
       "Time:                        19:29:19   Log-Likelihood:                -259.70\n",
       "converged:                       True   LL-Null:                       -322.80\n",
       "Covariance Type:            nonrobust   LLR p-value:                 7.153e-23\n",
       "===================================================================================\n",
       "                      coef    std err          z      P>|z|      [0.025      0.975]\n",
       "-----------------------------------------------------------------------------------\n",
       "Intercept          -1.7899      0.519     -3.450      0.001      -2.807      -0.773\n",
       "team1_log5          3.3510      1.000      3.352      0.001       1.392       5.310\n",
       "seed_diff          -0.0628      0.032     -1.938      0.053      -0.126       0.001\n",
       "TS_diff            -0.0948      0.115     -0.825      0.410      -0.320       0.131\n",
       "eFG_diff            0.0701      0.116      0.603      0.547      -0.158       0.298\n",
       "adjtempo_diff      -0.0186      0.028     -0.677      0.498      -0.073       0.035\n",
       "TOV_diff           -0.0663      0.060     -1.114      0.265      -0.183       0.050\n",
       "TRB_diff           -0.0887      0.040     -2.230      0.026      -0.167      -0.011\n",
       "srs_diff           -0.0239      0.033     -0.729      0.466      -0.088       0.040\n",
       "net_rating_diff     0.0529      0.031      1.684      0.092      -0.009       0.115\n",
       "===================================================================================\n",
       "\"\"\""
      ]
     },
     "execution_count": 42,
     "metadata": {},
     "output_type": "execute_result"
    }
   ],
   "source": [
    "smlogit = smf.logit(\"team1_win ~ team1_log5 + seed_diff + TS_diff + eFG_diff + adjtempo_diff + TOV_diff + TRB_diff + srs_diff + net_rating_diff\", train).fit()\n",
    "smlogit.summary()"
   ]
  },
  {
   "cell_type": "code",
   "execution_count": 43,
   "id": "aa0fc8b1",
   "metadata": {},
   "outputs": [],
   "source": [
    "test['prob'] = logit.predict_proba(test[['team1_log5','seed_diff','TS_diff','eFG_diff','adjtempo_diff','TRB_diff','TOV_diff','srs_diff','net_rating_diff']])[:,1]\n",
    "test['prediction'] = logit.predict(test[['team1_log5','seed_diff','TS_diff','eFG_diff','adjtempo_diff','TRB_diff','TOV_diff','srs_diff','net_rating_diff']])"
   ]
  },
  {
   "cell_type": "code",
   "execution_count": 44,
   "id": "f0aba894",
   "metadata": {},
   "outputs": [
    {
     "data": {
      "text/plain": [
       "0.6766169154228856"
      ]
     },
     "execution_count": 44,
     "metadata": {},
     "output_type": "execute_result"
    }
   ],
   "source": [
    "accuracy_score(test['team1_win'], test['prediction'],)"
   ]
  },
  {
   "cell_type": "code",
   "execution_count": 45,
   "id": "4bce85e8",
   "metadata": {},
   "outputs": [
    {
     "data": {
      "text/plain": [
       "0.7216494845360825"
      ]
     },
     "execution_count": 45,
     "metadata": {},
     "output_type": "execute_result"
    }
   ],
   "source": [
    "precision_score(test['team1_win'], test['prediction'])"
   ]
  },
  {
   "cell_type": "code",
   "execution_count": 46,
   "id": "a5d7f5ca",
   "metadata": {},
   "outputs": [
    {
     "data": {
      "text/plain": [
       "0.6481481481481481"
      ]
     },
     "execution_count": 46,
     "metadata": {},
     "output_type": "execute_result"
    }
   ],
   "source": [
    "recall_score(test['team1_win'], test['prediction'])"
   ]
  },
  {
   "cell_type": "code",
   "execution_count": 47,
   "id": "0755552b",
   "metadata": {},
   "outputs": [
    {
     "data": {
      "text/plain": [
       "0.6829268292682927"
      ]
     },
     "execution_count": 47,
     "metadata": {},
     "output_type": "execute_result"
    }
   ],
   "source": [
    "f1_score(test['team1_win'], test['prediction'])"
   ]
  },
  {
   "cell_type": "code",
   "execution_count": 48,
   "id": "c7164b06",
   "metadata": {},
   "outputs": [
    {
     "data": {
      "text/plain": [
       "0.5642368948103397"
      ]
     },
     "execution_count": 48,
     "metadata": {},
     "output_type": "execute_result"
    }
   ],
   "source": [
    "log_loss(test['team1_win'].values, test['prob'].values)"
   ]
  },
  {
   "cell_type": "code",
   "execution_count": 49,
   "id": "505e7658",
   "metadata": {},
   "outputs": [],
   "source": [
    "def plot_roc(fpr, tpr, roc_auc):\n",
    "    \"\"\"Plots the ROC curve for the win probability model along with\n",
    "    the AUC.\n",
    "    \"\"\"\n",
    "    fig, ax = plt.subplots()\n",
    "    ax.set(title='Receiver Operating Characteristic',\n",
    "           xlim=[0, 1], ylim=[0, 1], xlabel='False Positive Rate',\n",
    "           ylabel='True Positive Rate')\n",
    "    ax.plot(fpr, tpr, 'b', label='AUC = %0.2f' % roc_auc)\n",
    "    ax.plot([0, 1], [0, 1], 'k--')\n",
    "    ax.legend(loc='lower right')"
   ]
  },
  {
   "cell_type": "code",
   "execution_count": 50,
   "id": "f868cec6",
   "metadata": {},
   "outputs": [
    {
     "data": {
      "image/png": "[encoded data removed]",
      "text/plain": [
       "<Figure size 432x288 with 1 Axes>"
      ]
     },
     "metadata": {},
     "output_type": "display_data"
    }
   ],
   "source": [
    "fpr, tpr, thresholds = roc_curve(test['team1_win'].values, test['prob'].values)\n",
    "roc_auc = auc(fpr, tpr)\n",
    "plot_roc(fpr, tpr, roc_auc)"
   ]
  },
  {
   "cell_type": "code",
   "execution_count": 51,
   "id": "6f65a1f4",
   "metadata": {},
   "outputs": [
    {
     "data": {
      "text/plain": [
       "0.7755874153723616"
      ]
     },
     "execution_count": 51,
     "metadata": {},
     "output_type": "execute_result"
    }
   ],
   "source": [
    "roc_auc_score(test['team1_win'].values, test['prob'].values)"
   ]
  },
  {
   "cell_type": "markdown",
   "id": "4d4406dc",
   "metadata": {},
   "source": [
    "## Second Logistic Regression Model"
   ]
  },
  {
   "cell_type": "markdown",
   "id": "39924515",
   "metadata": {},
   "source": [
    "### Variables used: Log5, seed_diff, win_tempo_diff, TRB_diff, TOV_diff, srs_diff, net_rating_diff"
   ]
  },
  {
   "cell_type": "code",
   "execution_count": 52,
   "id": "4fae50fa",
   "metadata": {},
   "outputs": [],
   "source": [
    "ncaa_data.dropna(subset=['team1_log5'], inplace=True)"
   ]
  },
  {
   "cell_type": "code",
   "execution_count": 53,
   "id": "a7e57252",
   "metadata": {},
   "outputs": [],
   "source": [
    "ncaa_data['team1_win'] = (ncaa_data['team1_score']>ncaa_data['team2_score']).astype(int)"
   ]
  },
  {
   "cell_type": "code",
   "execution_count": 54,
   "id": "681eb43d",
   "metadata": {},
   "outputs": [],
   "source": [
    "training_columns = ['game_id','season','team1_win','exp_win1','exp_win2','team2_score',\n",
    "                                    'team1_score','team1_id','team2_id','team1_log5','seed_diff','win_tempo_diff','TRB_diff','srs_diff','net_rating_diff']\n",
    "ncaa_data_1 = ncaa_data.sample(frac=.5, random_state=15)[training_columns]\n",
    "ncaa_data_2 = ncaa_data[~ncaa_data.index.isin(ncaa_data_1.index)][training_columns].reset_index(drop=True)\n",
    "ncaa_data_1 = ncaa_data_1.reset_index(drop=True)"
   ]
  },
  {
   "cell_type": "code",
   "execution_count": 55,
   "id": "d5438899",
   "metadata": {},
   "outputs": [],
   "source": [
    "ncaa_data_2['team1_win'] = 0\n",
    "ncaa_data_2['team1_log5'] = 1-ncaa_data_2['team1_log5']\n",
    "ncaa_data_2['game_id'] = (ncaa_data_2['game_id'].str.split('-', expand=True)[0] \n",
    "                           + '-' + ncaa_data_2['game_id'].str.split('-', expand=True)[2] \n",
    "                           + '-' + ncaa_data_2['game_id'].str.split('-', expand=True)[1]\n",
    "                           ) \n",
    "ncaa_data_2['seed_diff'] = ncaa_data_2['seed_diff']*-1\n",
    "ncaa_data_2.columns = ['game_id','season','team1_win','exp_win1','exp_win2','team2_score',\n",
    "                                    'team1_score','team1_id','team2_id','team1_log5','seed_diff','win_tempo_diff','TRB_diff','srs_diff','net_rating_diff']"
   ]
  },
  {
   "cell_type": "code",
   "execution_count": 56,
   "id": "ca13f58a",
   "metadata": {},
   "outputs": [],
   "source": [
    "ncaa_train = pd.concat([ncaa_data_2, ncaa_data_1]).reset_index(drop=True)"
   ]
  },
  {
   "cell_type": "code",
   "execution_count": 57,
   "id": "ff4d4b66",
   "metadata": {},
   "outputs": [],
   "source": [
    "train, test = train_test_split(ncaa_train, train_size=.75)"
   ]
  },
  {
   "cell_type": "code",
   "execution_count": 58,
   "id": "2632b801",
   "metadata": {},
   "outputs": [],
   "source": [
    "train = train.reset_index(drop=True)\n",
    "test = test.reset_index(drop=True)"
   ]
  },
  {
   "cell_type": "code",
   "execution_count": 59,
   "id": "3aa14c1b",
   "metadata": {},
   "outputs": [
    {
     "data": {
      "text/html": [
       "<div>\n",
       "<style scoped>\n",
       "    .dataframe tbody tr th:only-of-type {\n",
       "        vertical-align: middle;\n",
       "    }\n",
       "\n",
       "    .dataframe tbody tr th {\n",
       "        vertical-align: top;\n",
       "    }\n",
       "\n",
       "    .dataframe thead th {\n",
       "        text-align: right;\n",
       "    }\n",
       "</style>\n",
       "<table border=\"1\" class=\"dataframe\">\n",
       "  <thead>\n",
       "    <tr style=\"text-align: right;\">\n",
       "      <th></th>\n",
       "      <th>game_id</th>\n",
       "      <th>season</th>\n",
       "      <th>team1_win</th>\n",
       "      <th>exp_win1</th>\n",
       "      <th>exp_win2</th>\n",
       "      <th>team2_score</th>\n",
       "      <th>team1_score</th>\n",
       "      <th>team1_id</th>\n",
       "      <th>team2_id</th>\n",
       "      <th>team1_log5</th>\n",
       "      <th>seed_diff</th>\n",
       "      <th>win_tempo_diff</th>\n",
       "      <th>TRB_diff</th>\n",
       "      <th>srs_diff</th>\n",
       "      <th>net_rating_diff</th>\n",
       "    </tr>\n",
       "  </thead>\n",
       "  <tbody>\n",
       "    <tr>\n",
       "      <th>0</th>\n",
       "      <td>2011-1452-1155</td>\n",
       "      <td>2011</td>\n",
       "      <td>1</td>\n",
       "      <td>0.879452</td>\n",
       "      <td>0.867362</td>\n",
       "      <td>76</td>\n",
       "      <td>84</td>\n",
       "      <td>1452</td>\n",
       "      <td>1155</td>\n",
       "      <td>0.527327</td>\n",
       "      <td>-7</td>\n",
       "      <td>1.007318</td>\n",
       "      <td>1.2</td>\n",
       "      <td>2.39</td>\n",
       "      <td>1.5667</td>\n",
       "    </tr>\n",
       "    <tr>\n",
       "      <th>1</th>\n",
       "      <td>2016-1451-1462</td>\n",
       "      <td>2016</td>\n",
       "      <td>0</td>\n",
       "      <td>0.915055</td>\n",
       "      <td>0.577263</td>\n",
       "      <td>53</td>\n",
       "      <td>71</td>\n",
       "      <td>1462</td>\n",
       "      <td>1451</td>\n",
       "      <td>0.112503</td>\n",
       "      <td>13</td>\n",
       "      <td>13.388884</td>\n",
       "      <td>2.3</td>\n",
       "      <td>18.40</td>\n",
       "      <td>18.9559</td>\n",
       "    </tr>\n",
       "    <tr>\n",
       "      <th>2</th>\n",
       "      <td>2015-1323-1246</td>\n",
       "      <td>2015</td>\n",
       "      <td>0</td>\n",
       "      <td>0.978741</td>\n",
       "      <td>0.912696</td>\n",
       "      <td>66</td>\n",
       "      <td>68</td>\n",
       "      <td>1246</td>\n",
       "      <td>1323</td>\n",
       "      <td>0.185055</td>\n",
       "      <td>2</td>\n",
       "      <td>7.236343</td>\n",
       "      <td>5.1</td>\n",
       "      <td>9.49</td>\n",
       "      <td>11.3448</td>\n",
       "    </tr>\n",
       "    <tr>\n",
       "      <th>3</th>\n",
       "      <td>2013-1326-1235</td>\n",
       "      <td>2013</td>\n",
       "      <td>1</td>\n",
       "      <td>0.929888</td>\n",
       "      <td>0.841339</td>\n",
       "      <td>75</td>\n",
       "      <td>78</td>\n",
       "      <td>1326</td>\n",
       "      <td>1235</td>\n",
       "      <td>0.714380</td>\n",
       "      <td>-8</td>\n",
       "      <td>4.599045</td>\n",
       "      <td>-0.7</td>\n",
       "      <td>5.69</td>\n",
       "      <td>6.8830</td>\n",
       "    </tr>\n",
       "    <tr>\n",
       "      <th>4</th>\n",
       "      <td>2014-1142-1411</td>\n",
       "      <td>2014</td>\n",
       "      <td>1</td>\n",
       "      <td>0.469725</td>\n",
       "      <td>0.347385</td>\n",
       "      <td>69</td>\n",
       "      <td>81</td>\n",
       "      <td>1142</td>\n",
       "      <td>1411</td>\n",
       "      <td>0.624643</td>\n",
       "      <td>0</td>\n",
       "      <td>3.117385</td>\n",
       "      <td>-3.4</td>\n",
       "      <td>7.07</td>\n",
       "      <td>4.8888</td>\n",
       "    </tr>\n",
       "    <tr>\n",
       "      <th>...</th>\n",
       "      <td>...</td>\n",
       "      <td>...</td>\n",
       "      <td>...</td>\n",
       "      <td>...</td>\n",
       "      <td>...</td>\n",
       "      <td>...</td>\n",
       "      <td>...</td>\n",
       "      <td>...</td>\n",
       "      <td>...</td>\n",
       "      <td>...</td>\n",
       "      <td>...</td>\n",
       "      <td>...</td>\n",
       "      <td>...</td>\n",
       "      <td>...</td>\n",
       "      <td>...</td>\n",
       "    </tr>\n",
       "    <tr>\n",
       "      <th>495</th>\n",
       "      <td>2013-1166-1181</td>\n",
       "      <td>2013</td>\n",
       "      <td>0</td>\n",
       "      <td>0.929207</td>\n",
       "      <td>0.889406</td>\n",
       "      <td>50</td>\n",
       "      <td>66</td>\n",
       "      <td>1181</td>\n",
       "      <td>1166</td>\n",
       "      <td>0.379922</td>\n",
       "      <td>5</td>\n",
       "      <td>2.783372</td>\n",
       "      <td>-4.3</td>\n",
       "      <td>5.03</td>\n",
       "      <td>4.1883</td>\n",
       "    </tr>\n",
       "    <tr>\n",
       "      <th>496</th>\n",
       "      <td>2017-1266-1376</td>\n",
       "      <td>2017</td>\n",
       "      <td>0</td>\n",
       "      <td>0.882852</td>\n",
       "      <td>0.858997</td>\n",
       "      <td>73</td>\n",
       "      <td>93</td>\n",
       "      <td>1376</td>\n",
       "      <td>1266</td>\n",
       "      <td>0.447016</td>\n",
       "      <td>3</td>\n",
       "      <td>-0.407784</td>\n",
       "      <td>1.2</td>\n",
       "      <td>2.26</td>\n",
       "      <td>-0.5918</td>\n",
       "    </tr>\n",
       "    <tr>\n",
       "      <th>497</th>\n",
       "      <td>2011-1246-1163</td>\n",
       "      <td>2011</td>\n",
       "      <td>0</td>\n",
       "      <td>0.902118</td>\n",
       "      <td>0.926438</td>\n",
       "      <td>55</td>\n",
       "      <td>56</td>\n",
       "      <td>1163</td>\n",
       "      <td>1246</td>\n",
       "      <td>0.577432</td>\n",
       "      <td>1</td>\n",
       "      <td>-1.990354</td>\n",
       "      <td>0.4</td>\n",
       "      <td>-2.35</td>\n",
       "      <td>-2.9921</td>\n",
       "    </tr>\n",
       "    <tr>\n",
       "      <th>498</th>\n",
       "      <td>2010-1424-1320</td>\n",
       "      <td>2010</td>\n",
       "      <td>0</td>\n",
       "      <td>0.879777</td>\n",
       "      <td>0.838713</td>\n",
       "      <td>66</td>\n",
       "      <td>69</td>\n",
       "      <td>1320</td>\n",
       "      <td>1424</td>\n",
       "      <td>0.415412</td>\n",
       "      <td>-1</td>\n",
       "      <td>1.599663</td>\n",
       "      <td>0.0</td>\n",
       "      <td>0.00</td>\n",
       "      <td>2.5143</td>\n",
       "    </tr>\n",
       "    <tr>\n",
       "      <th>499</th>\n",
       "      <td>2013-1455-1326</td>\n",
       "      <td>2013</td>\n",
       "      <td>1</td>\n",
       "      <td>0.839693</td>\n",
       "      <td>0.929888</td>\n",
       "      <td>66</td>\n",
       "      <td>70</td>\n",
       "      <td>1455</td>\n",
       "      <td>1326</td>\n",
       "      <td>0.283121</td>\n",
       "      <td>7</td>\n",
       "      <td>-5.225862</td>\n",
       "      <td>2.7</td>\n",
       "      <td>-5.51</td>\n",
       "      <td>-8.1106</td>\n",
       "    </tr>\n",
       "  </tbody>\n",
       "</table>\n",
       "<p>500 rows × 15 columns</p>\n",
       "</div>"
      ],
      "text/plain": [
       "            game_id  season  team1_win  exp_win1  exp_win2  team2_score  \\\n",
       "0    2011-1452-1155    2011          1  0.879452  0.867362           76   \n",
       "1    2016-1451-1462    2016          0  0.915055  0.577263           53   \n",
       "2    2015-1323-1246    2015          0  0.978741  0.912696           66   \n",
       "3    2013-1326-1235    2013          1  0.929888  0.841339           75   \n",
       "4    2014-1142-1411    2014          1  0.469725  0.347385           69   \n",
       "..              ...     ...        ...       ...       ...          ...   \n",
       "495  2013-1166-1181    2013          0  0.929207  0.889406           50   \n",
       "496  2017-1266-1376    2017          0  0.882852  0.858997           73   \n",
       "497  2011-1246-1163    2011          0  0.902118  0.926438           55   \n",
       "498  2010-1424-1320    2010          0  0.879777  0.838713           66   \n",
       "499  2013-1455-1326    2013          1  0.839693  0.929888           66   \n",
       "\n",
       "     team1_score  team1_id  team2_id  team1_log5  seed_diff  win_tempo_diff  \\\n",
       "0             84      1452      1155    0.527327         -7        1.007318   \n",
       "1             71      1462      1451    0.112503         13       13.388884   \n",
       "2             68      1246      1323    0.185055          2        7.236343   \n",
       "3             78      1326      1235    0.714380         -8        4.599045   \n",
       "4             81      1142      1411    0.624643          0        3.117385   \n",
       "..           ...       ...       ...         ...        ...             ...   \n",
       "495           66      1181      1166    0.379922          5        2.783372   \n",
       "496           93      1376      1266    0.447016          3       -0.407784   \n",
       "497           56      1163      1246    0.577432          1       -1.990354   \n",
       "498           69      1320      1424    0.415412         -1        1.599663   \n",
       "499           70      1455      1326    0.283121          7       -5.225862   \n",
       "\n",
       "     TRB_diff  srs_diff  net_rating_diff  \n",
       "0         1.2      2.39           1.5667  \n",
       "1         2.3     18.40          18.9559  \n",
       "2         5.1      9.49          11.3448  \n",
       "3        -0.7      5.69           6.8830  \n",
       "4        -3.4      7.07           4.8888  \n",
       "..        ...       ...              ...  \n",
       "495      -4.3      5.03           4.1883  \n",
       "496       1.2      2.26          -0.5918  \n",
       "497       0.4     -2.35          -2.9921  \n",
       "498       0.0      0.00           2.5143  \n",
       "499       2.7     -5.51          -8.1106  \n",
       "\n",
       "[500 rows x 15 columns]"
      ]
     },
     "execution_count": 59,
     "metadata": {},
     "output_type": "execute_result"
    }
   ],
   "source": [
    "train"
   ]
  },
  {
   "cell_type": "code",
   "execution_count": 60,
   "id": "a686e67f",
   "metadata": {},
   "outputs": [
    {
     "data": {
      "text/plain": [
       "LogisticRegression()"
      ]
     },
     "execution_count": 60,
     "metadata": {},
     "output_type": "execute_result"
    }
   ],
   "source": [
    "logit = LogisticRegression()\n",
    "logit.fit(train[['team1_log5','seed_diff','win_tempo_diff','TRB_diff','srs_diff','net_rating_diff']], train['team1_win'])"
   ]
  },
  {
   "cell_type": "code",
   "execution_count": 61,
   "id": "4d052e40",
   "metadata": {},
   "outputs": [
    {
     "name": "stdout",
     "output_type": "stream",
     "text": [
      "Optimization terminated successfully.\n",
      "         Current function value: 0.546760\n",
      "         Iterations 6\n"
     ]
    },
    {
     "data": {
      "text/html": [
       "<table class=\"simpletable\">\n",
       "<caption>Logit Regression Results</caption>\n",
       "<tr>\n",
       "  <th>Dep. Variable:</th>       <td>team1_win</td>    <th>  No. Observations:  </th>  <td>   500</td>  \n",
       "</tr>\n",
       "<tr>\n",
       "  <th>Model:</th>                 <td>Logit</td>      <th>  Df Residuals:      </th>  <td>   493</td>  \n",
       "</tr>\n",
       "<tr>\n",
       "  <th>Method:</th>                 <td>MLE</td>       <th>  Df Model:          </th>  <td>     6</td>  \n",
       "</tr>\n",
       "<tr>\n",
       "  <th>Date:</th>            <td>Mon, 06 Jun 2022</td> <th>  Pseudo R-squ.:     </th>  <td>0.2110</td>  \n",
       "</tr>\n",
       "<tr>\n",
       "  <th>Time:</th>                <td>19:29:24</td>     <th>  Log-Likelihood:    </th> <td> -273.38</td> \n",
       "</tr>\n",
       "<tr>\n",
       "  <th>converged:</th>             <td>True</td>       <th>  LL-Null:           </th> <td> -346.47</td> \n",
       "</tr>\n",
       "<tr>\n",
       "  <th>Covariance Type:</th>     <td>nonrobust</td>    <th>  LLR p-value:       </th> <td>4.949e-29</td>\n",
       "</tr>\n",
       "</table>\n",
       "<table class=\"simpletable\">\n",
       "<tr>\n",
       "         <td></td>            <th>coef</th>     <th>std err</th>      <th>z</th>      <th>P>|z|</th>  <th>[0.025</th>    <th>0.975]</th>  \n",
       "</tr>\n",
       "<tr>\n",
       "  <th>Intercept</th>       <td>   -1.8302</td> <td>    0.506</td> <td>   -3.616</td> <td> 0.000</td> <td>   -2.822</td> <td>   -0.838</td>\n",
       "</tr>\n",
       "<tr>\n",
       "  <th>team1_log5</th>      <td>    3.5994</td> <td>    0.986</td> <td>    3.649</td> <td> 0.000</td> <td>    1.666</td> <td>    5.533</td>\n",
       "</tr>\n",
       "<tr>\n",
       "  <th>seed_diff</th>       <td>   -0.0633</td> <td>    0.032</td> <td>   -1.962</td> <td> 0.050</td> <td>   -0.126</td> <td>-6.09e-05</td>\n",
       "</tr>\n",
       "<tr>\n",
       "  <th>win_tempo_diff</th>  <td>   -0.8782</td> <td>    0.518</td> <td>   -1.696</td> <td> 0.090</td> <td>   -1.893</td> <td>    0.136</td>\n",
       "</tr>\n",
       "<tr>\n",
       "  <th>TRB_diff</th>        <td>   -0.0470</td> <td>    0.035</td> <td>   -1.334</td> <td> 0.182</td> <td>   -0.116</td> <td>    0.022</td>\n",
       "</tr>\n",
       "<tr>\n",
       "  <th>srs_diff</th>        <td>    0.0024</td> <td>    0.033</td> <td>    0.073</td> <td> 0.941</td> <td>   -0.062</td> <td>    0.067</td>\n",
       "</tr>\n",
       "<tr>\n",
       "  <th>net_rating_diff</th> <td>    0.6053</td> <td>    0.344</td> <td>    1.761</td> <td> 0.078</td> <td>   -0.068</td> <td>    1.279</td>\n",
       "</tr>\n",
       "</table>"
      ],
      "text/plain": [
       "<class 'statsmodels.iolib.summary.Summary'>\n",
       "\"\"\"\n",
       "                           Logit Regression Results                           \n",
       "==============================================================================\n",
       "Dep. Variable:              team1_win   No. Observations:                  500\n",
       "Model:                          Logit   Df Residuals:                      493\n",
       "Method:                           MLE   Df Model:                            6\n",
       "Date:                Mon, 06 Jun 2022   Pseudo R-squ.:                  0.2110\n",
       "Time:                        19:29:24   Log-Likelihood:                -273.38\n",
       "converged:                       True   LL-Null:                       -346.47\n",
       "Covariance Type:            nonrobust   LLR p-value:                 4.949e-29\n",
       "===================================================================================\n",
       "                      coef    std err          z      P>|z|      [0.025      0.975]\n",
       "-----------------------------------------------------------------------------------\n",
       "Intercept          -1.8302      0.506     -3.616      0.000      -2.822      -0.838\n",
       "team1_log5          3.5994      0.986      3.649      0.000       1.666       5.533\n",
       "seed_diff          -0.0633      0.032     -1.962      0.050      -0.126   -6.09e-05\n",
       "win_tempo_diff     -0.8782      0.518     -1.696      0.090      -1.893       0.136\n",
       "TRB_diff           -0.0470      0.035     -1.334      0.182      -0.116       0.022\n",
       "srs_diff            0.0024      0.033      0.073      0.941      -0.062       0.067\n",
       "net_rating_diff     0.6053      0.344      1.761      0.078      -0.068       1.279\n",
       "===================================================================================\n",
       "\"\"\""
      ]
     },
     "execution_count": 61,
     "metadata": {},
     "output_type": "execute_result"
    }
   ],
   "source": [
    "smlogit = smf.logit(\"team1_win ~ team1_log5 + seed_diff + win_tempo_diff + TRB_diff + srs_diff + net_rating_diff\", train).fit()\n",
    "smlogit.summary()"
   ]
  },
  {
   "cell_type": "code",
   "execution_count": 62,
   "id": "c00c03d0",
   "metadata": {},
   "outputs": [],
   "source": [
    "test['prob'] = logit.predict_proba(test[['team1_log5','seed_diff','win_tempo_diff','TRB_diff','srs_diff','net_rating_diff']])[:,1]\n",
    "test['prediction'] = logit.predict(test[['team1_log5','seed_diff','win_tempo_diff','TRB_diff','srs_diff','net_rating_diff']])"
   ]
  },
  {
   "cell_type": "code",
   "execution_count": 63,
   "id": "6e19182f",
   "metadata": {},
   "outputs": [
    {
     "data": {
      "text/plain": [
       "0.6586826347305389"
      ]
     },
     "execution_count": 63,
     "metadata": {},
     "output_type": "execute_result"
    }
   ],
   "source": [
    "accuracy_score(test['team1_win'], test['prediction'],)"
   ]
  },
  {
   "cell_type": "code",
   "execution_count": 64,
   "id": "5e63f660",
   "metadata": {},
   "outputs": [
    {
     "data": {
      "text/plain": [
       "0.627906976744186"
      ]
     },
     "execution_count": 64,
     "metadata": {},
     "output_type": "execute_result"
    }
   ],
   "source": [
    "precision_score(test['team1_win'], test['prediction'])"
   ]
  },
  {
   "cell_type": "code",
   "execution_count": 65,
   "id": "e76c74cc",
   "metadata": {},
   "outputs": [
    {
     "data": {
      "text/plain": [
       "0.6835443037974683"
      ]
     },
     "execution_count": 65,
     "metadata": {},
     "output_type": "execute_result"
    }
   ],
   "source": [
    "recall_score(test['team1_win'], test['prediction'])"
   ]
  },
  {
   "cell_type": "code",
   "execution_count": 66,
   "id": "bf583620",
   "metadata": {},
   "outputs": [
    {
     "data": {
      "text/plain": [
       "0.6545454545454547"
      ]
     },
     "execution_count": 66,
     "metadata": {},
     "output_type": "execute_result"
    }
   ],
   "source": [
    "f1_score(test['team1_win'], test['prediction'])"
   ]
  },
  {
   "cell_type": "code",
   "execution_count": 67,
   "id": "20049629",
   "metadata": {},
   "outputs": [
    {
     "data": {
      "text/plain": [
       "0.5996949812556769"
      ]
     },
     "execution_count": 67,
     "metadata": {},
     "output_type": "execute_result"
    }
   ],
   "source": [
    "log_loss(test['team1_win'].values, test['prob'].values)"
   ]
  },
  {
   "cell_type": "code",
   "execution_count": 68,
   "id": "30d69c0d",
   "metadata": {},
   "outputs": [],
   "source": [
    "def plot_roc(fpr, tpr, roc_auc):\n",
    "    \"\"\"Plots the ROC curve for the win probability model along with\n",
    "    the AUC.\n",
    "    \"\"\"\n",
    "    fig, ax = plt.subplots()\n",
    "    ax.set(title='Receiver Operating Characteristic',\n",
    "           xlim=[0, 1], ylim=[0, 1], xlabel='False Positive Rate',\n",
    "           ylabel='True Positive Rate')\n",
    "    ax.plot(fpr, tpr, 'b', label='AUC = %0.2f' % roc_auc)\n",
    "    ax.plot([0, 1], [0, 1], 'k--')\n",
    "    ax.legend(loc='lower right')"
   ]
  },
  {
   "cell_type": "code",
   "execution_count": 69,
   "id": "4ff13fee",
   "metadata": {},
   "outputs": [
    {
     "data": {
      "image/png": "[encoded data removed]",
      "text/plain": [
       "<Figure size 432x288 with 1 Axes>"
      ]
     },
     "metadata": {},
     "output_type": "display_data"
    }
   ],
   "source": [
    "fpr, tpr, thresholds = roc_curve(test['team1_win'].values, test['prob'].values)\n",
    "roc_auc = auc(fpr, tpr)\n",
    "plot_roc(fpr, tpr, roc_auc)"
   ]
  },
  {
   "cell_type": "code",
   "execution_count": 70,
   "id": "6f57a6ca",
   "metadata": {},
   "outputs": [
    {
     "data": {
      "text/plain": [
       "0.7315880322209435"
      ]
     },
     "execution_count": 70,
     "metadata": {},
     "output_type": "execute_result"
    }
   ],
   "source": [
    "roc_auc_score(test['team1_win'].values, test['prob'].values)"
   ]
  },
  {
   "cell_type": "markdown",
   "id": "1bfb9dd8",
   "metadata": {},
   "source": [
    "## Random Forest Model"
   ]
  },
  {
   "cell_type": "code",
   "execution_count": 71,
   "id": "8665c54a",
   "metadata": {},
   "outputs": [],
   "source": [
    "mm_data = new2data"
   ]
  },
  {
   "cell_type": "code",
   "execution_count": 72,
   "id": "ca4204e9",
   "metadata": {},
   "outputs": [],
   "source": [
    "mm_data.dropna(subset=['team1_log5'], inplace=True)"
   ]
  },
  {
   "cell_type": "code",
   "execution_count": 73,
   "id": "8f75368d",
   "metadata": {},
   "outputs": [],
   "source": [
    "mm_data['team1_win'] = (mm_data['team1_score']>mm_data['team2_score']).astype(int)"
   ]
  },
  {
   "cell_type": "code",
   "execution_count": 74,
   "metadata": {},
   "outputs": [],
   "source": [
    "training_columns = ['game_id','team1_win','team1_adjoe','team2_adjoe','team1_adjtempo','team2_adjtempo',\n",
    "                                    'team2_adjde','team1_adjde','team1_fg2pct',\n",
    "                    'team1_fg3pct','team1_ftpct','team2_fg2pct','team2_fg3pct','team2_ftpct','team1_TS%','team2_TS%',\n",
    "                   'team1_blockpct','team2_blockpct','win_tempo_diff',\n",
    "                   'team1_log5','diff_dist','seed_diff','net_rating_diff','srs_diff','TRB_diff', 'eFG_diff'\n",
    "                   ,'adjtempo_diff','TOV_diff']\n",
    "mm_data_1 = mm_data.sample(frac=.5, random_state=15)[training_columns]\n",
    "mm_data_2 = mm_data[~mm_data.index.isin(mm_data_1.index)][training_columns].reset_index(drop=True)\n",
    "mm_data_1 = mm_data_1.reset_index(drop=True)"
   ]
  },
  {
   "cell_type": "code",
   "execution_count": 75,
   "id": "4282caff",
   "metadata": {},
   "outputs": [],
   "source": [
    "mm_data_2['team1_win'] = 0\n",
    "mm_data_2['win_tempo_diff'] = mm_data_2['win_tempo_diff']*-1\n",
    "mm_data_2['net_rating_diff'] = mm_data_2['net_rating_diff']*-1\n",
    "mm_data_2['srs_diff'] = mm_data_2['srs_diff']*-1\n",
    "mm_data_2['TRB_diff'] = mm_data_2['TRB_diff']*-1\n",
    "mm_data_2['diff_dist'] = mm_data_2['diff_dist']*-1\n",
    "mm_data_2['TOV_diff'] = mm_data_2['TOV_diff']*-1\n",
    "mm_data_2['eFG_diff'] = mm_data_2['eFG_diff']*-1\n",
    "mm_data_2['adjtempo_diff'] = mm_data_2['adjtempo_diff']*-1\n",
    "mm_data_2['team1_log5'] = 1-mm_data_2['team1_log5']\n",
    "mm_data_2['game_id'] = (mm_data_2['game_id'].str.split('-', expand=True)[0] \n",
    "                           + '-' + mm_data_2['game_id'].str.split('-', expand=True)[2] \n",
    "                           + '-' + mm_data_2['game_id'].str.split('-', expand=True)[1]\n",
    "                           ) \n",
    "mm_data_2['seed_diff'] = mm_data_2['seed_diff']*-1\n",
    "mm_data_2.columns =['game_id','team1_win','team1_adjoe','team2_adjoe','team1_adjtempo','team2_adjtempo',\n",
    "                                    'team2_adjde','team1_adjde','team1_fg2pct',\n",
    "                    'team1_fg3pct','team1_ftpct','team2_fg2pct','team2_fg3pct','team2_ftpct','team1_TS%','team2_TS%',\n",
    "                   'team1_blockpct','team2_blockpct','win_tempo_diff',\n",
    "                   'team1_log5','diff_dist','seed_diff','net_rating_diff','srs_diff','TRB_diff',\n",
    "                   'TOV_diff','eFG_diff','adjtempo_diff']"
   ]
  },
  {
   "cell_type": "code",
   "execution_count": 76,
   "id": "29cdb182",
   "metadata": {},
   "outputs": [],
   "source": [
    "mm_train = pd.concat([mm_data_2, mm_data_1]).reset_index(drop=True)"
   ]
  },
  {
   "cell_type": "code",
   "execution_count": 77,
   "id": "ff3b6d90",
   "metadata": {},
   "outputs": [],
   "source": [
    "## reset data to maybe change variables\n",
    "data = mm_train\n",
    "data = data.drop(columns=['game_id'])"
   ]
  },
  {
   "cell_type": "code",
   "execution_count": 78,
   "id": "f9cb8a06",
   "metadata": {},
   "outputs": [],
   "source": [
    "## Use this line to change the variables of the random forest model\n",
    "data = data[['team1_win','team1_adjoe','team2_adjoe','team1_adjtempo','team2_adjtempo',\n",
    "                                    'team2_adjde','team1_adjde','team1_fg2pct',\n",
    "                    'team1_fg3pct','team1_ftpct','team2_fg2pct','team2_fg3pct','team2_ftpct','team1_TS%','team2_TS%',\n",
    "                   'team1_blockpct','team2_blockpct','win_tempo_diff',\n",
    "                   'team1_log5','diff_dist','seed_diff','net_rating_diff','srs_diff','TRB_diff',\n",
    "                   'TOV_diff','eFG_diff','adjtempo_diff']]"
   ]
  },
  {
   "cell_type": "code",
   "execution_count": 79,
   "id": "432b5a6a",
   "metadata": {},
   "outputs": [],
   "source": [
    "## Sets team1_win as first column, which makes it easier to set into array\n",
    "data = data[ ['team1_win'] + [ col for col in data.columns if col != 'team1_win' ] ]"
   ]
  },
  {
   "cell_type": "code",
   "execution_count": 80,
   "id": "f0a0a789",
   "metadata": {},
   "outputs": [
    {
     "data": {
      "text/html": [
       "<div>\n",
       "<style scoped>\n",
       "    .dataframe tbody tr th:only-of-type {\n",
       "        vertical-align: middle;\n",
       "    }\n",
       "\n",
       "    .dataframe tbody tr th {\n",
       "        vertical-align: top;\n",
       "    }\n",
       "\n",
       "    .dataframe thead th {\n",
       "        text-align: right;\n",
       "    }\n",
       "</style>\n",
       "<table border=\"1\" class=\"dataframe\">\n",
       "  <thead>\n",
       "    <tr style=\"text-align: right;\">\n",
       "      <th></th>\n",
       "      <th>team1_win</th>\n",
       "      <th>team1_adjoe</th>\n",
       "      <th>team2_adjoe</th>\n",
       "      <th>team1_adjtempo</th>\n",
       "      <th>team2_adjtempo</th>\n",
       "      <th>team2_adjde</th>\n",
       "      <th>team1_adjde</th>\n",
       "      <th>team1_fg2pct</th>\n",
       "      <th>team1_fg3pct</th>\n",
       "      <th>team1_ftpct</th>\n",
       "      <th>...</th>\n",
       "      <th>win_tempo_diff</th>\n",
       "      <th>team1_log5</th>\n",
       "      <th>diff_dist</th>\n",
       "      <th>seed_diff</th>\n",
       "      <th>net_rating_diff</th>\n",
       "      <th>srs_diff</th>\n",
       "      <th>TRB_diff</th>\n",
       "      <th>TOV_diff</th>\n",
       "      <th>eFG_diff</th>\n",
       "      <th>adjtempo_diff</th>\n",
       "    </tr>\n",
       "  </thead>\n",
       "  <tbody>\n",
       "    <tr>\n",
       "      <th>count</th>\n",
       "      <td>667.000000</td>\n",
       "      <td>667.000000</td>\n",
       "      <td>667.000000</td>\n",
       "      <td>667.000000</td>\n",
       "      <td>667.000000</td>\n",
       "      <td>667.000000</td>\n",
       "      <td>667.000000</td>\n",
       "      <td>667.000000</td>\n",
       "      <td>667.000000</td>\n",
       "      <td>667.000000</td>\n",
       "      <td>...</td>\n",
       "      <td>667.000000</td>\n",
       "      <td>667.000000</td>\n",
       "      <td>667.000000</td>\n",
       "      <td>667.000000</td>\n",
       "      <td>667.000000</td>\n",
       "      <td>667.000000</td>\n",
       "      <td>667.000000</td>\n",
       "      <td>667.000000</td>\n",
       "      <td>667.000000</td>\n",
       "      <td>667.000000</td>\n",
       "    </tr>\n",
       "    <tr>\n",
       "      <th>mean</th>\n",
       "      <td>0.500750</td>\n",
       "      <td>113.508182</td>\n",
       "      <td>110.349322</td>\n",
       "      <td>66.616774</td>\n",
       "      <td>66.880884</td>\n",
       "      <td>96.820227</td>\n",
       "      <td>94.342843</td>\n",
       "      <td>51.484568</td>\n",
       "      <td>36.245761</td>\n",
       "      <td>71.355084</td>\n",
       "      <td>...</td>\n",
       "      <td>0.189459</td>\n",
       "      <td>0.505348</td>\n",
       "      <td>4.949954</td>\n",
       "      <td>-0.301349</td>\n",
       "      <td>0.304964</td>\n",
       "      <td>0.292819</td>\n",
       "      <td>-0.076162</td>\n",
       "      <td>-0.539580</td>\n",
       "      <td>0.434664</td>\n",
       "      <td>-0.372775</td>\n",
       "    </tr>\n",
       "    <tr>\n",
       "      <th>std</th>\n",
       "      <td>0.500375</td>\n",
       "      <td>5.736558</td>\n",
       "      <td>5.816666</td>\n",
       "      <td>2.968515</td>\n",
       "      <td>3.028559</td>\n",
       "      <td>5.032049</td>\n",
       "      <td>4.449220</td>\n",
       "      <td>3.123882</td>\n",
       "      <td>2.711717</td>\n",
       "      <td>3.447040</td>\n",
       "      <td>...</td>\n",
       "      <td>7.987707</td>\n",
       "      <td>0.239202</td>\n",
       "      <td>1155.692553</td>\n",
       "      <td>7.443322</td>\n",
       "      <td>11.949748</td>\n",
       "      <td>11.085220</td>\n",
       "      <td>3.497741</td>\n",
       "      <td>6.189834</td>\n",
       "      <td>3.942677</td>\n",
       "      <td>3.130496</td>\n",
       "    </tr>\n",
       "    <tr>\n",
       "      <th>min</th>\n",
       "      <td>0.000000</td>\n",
       "      <td>90.158400</td>\n",
       "      <td>90.158400</td>\n",
       "      <td>57.615400</td>\n",
       "      <td>57.615400</td>\n",
       "      <td>85.314400</td>\n",
       "      <td>83.799400</td>\n",
       "      <td>43.683400</td>\n",
       "      <td>29.577500</td>\n",
       "      <td>60.719900</td>\n",
       "      <td>...</td>\n",
       "      <td>-27.051705</td>\n",
       "      <td>0.009786</td>\n",
       "      <td>-3581.990105</td>\n",
       "      <td>-15.000000</td>\n",
       "      <td>-40.683600</td>\n",
       "      <td>-36.970000</td>\n",
       "      <td>-9.800000</td>\n",
       "      <td>-58.900000</td>\n",
       "      <td>-9.000000</td>\n",
       "      <td>-11.240200</td>\n",
       "    </tr>\n",
       "    <tr>\n",
       "      <th>25%</th>\n",
       "      <td>0.000000</td>\n",
       "      <td>109.655950</td>\n",
       "      <td>106.734650</td>\n",
       "      <td>64.794700</td>\n",
       "      <td>64.881600</td>\n",
       "      <td>93.533300</td>\n",
       "      <td>90.880700</td>\n",
       "      <td>49.271800</td>\n",
       "      <td>34.264544</td>\n",
       "      <td>68.811195</td>\n",
       "      <td>...</td>\n",
       "      <td>-4.466078</td>\n",
       "      <td>0.326355</td>\n",
       "      <td>-611.120134</td>\n",
       "      <td>-6.500000</td>\n",
       "      <td>-6.751700</td>\n",
       "      <td>-5.570000</td>\n",
       "      <td>-2.300000</td>\n",
       "      <td>-1.900000</td>\n",
       "      <td>-2.218850</td>\n",
       "      <td>-2.278850</td>\n",
       "    </tr>\n",
       "    <tr>\n",
       "      <th>50%</th>\n",
       "      <td>1.000000</td>\n",
       "      <td>113.646000</td>\n",
       "      <td>110.323000</td>\n",
       "      <td>66.560100</td>\n",
       "      <td>66.924800</td>\n",
       "      <td>96.462100</td>\n",
       "      <td>94.200000</td>\n",
       "      <td>51.261200</td>\n",
       "      <td>36.257310</td>\n",
       "      <td>71.075400</td>\n",
       "      <td>...</td>\n",
       "      <td>0.155575</td>\n",
       "      <td>0.502939</td>\n",
       "      <td>-13.840606</td>\n",
       "      <td>0.000000</td>\n",
       "      <td>0.230800</td>\n",
       "      <td>0.000000</td>\n",
       "      <td>-0.100000</td>\n",
       "      <td>0.200000</td>\n",
       "      <td>0.362000</td>\n",
       "      <td>-0.300000</td>\n",
       "    </tr>\n",
       "    <tr>\n",
       "      <th>75%</th>\n",
       "      <td>1.000000</td>\n",
       "      <td>117.752000</td>\n",
       "      <td>114.100000</td>\n",
       "      <td>68.604400</td>\n",
       "      <td>68.896500</td>\n",
       "      <td>100.184000</td>\n",
       "      <td>97.300000</td>\n",
       "      <td>53.098750</td>\n",
       "      <td>38.061650</td>\n",
       "      <td>73.926750</td>\n",
       "      <td>...</td>\n",
       "      <td>4.610378</td>\n",
       "      <td>0.684610</td>\n",
       "      <td>623.368702</td>\n",
       "      <td>5.000000</td>\n",
       "      <td>7.004850</td>\n",
       "      <td>6.035000</td>\n",
       "      <td>2.200000</td>\n",
       "      <td>1.900000</td>\n",
       "      <td>3.066450</td>\n",
       "      <td>1.487150</td>\n",
       "    </tr>\n",
       "    <tr>\n",
       "      <th>max</th>\n",
       "      <td>1.000000</td>\n",
       "      <td>125.688800</td>\n",
       "      <td>125.688800</td>\n",
       "      <td>74.800000</td>\n",
       "      <td>76.323100</td>\n",
       "      <td>113.713000</td>\n",
       "      <td>110.550000</td>\n",
       "      <td>62.258314</td>\n",
       "      <td>43.281500</td>\n",
       "      <td>81.801100</td>\n",
       "      <td>...</td>\n",
       "      <td>25.364610</td>\n",
       "      <td>0.981828</td>\n",
       "      <td>3917.144567</td>\n",
       "      <td>15.000000</td>\n",
       "      <td>37.113800</td>\n",
       "      <td>33.880000</td>\n",
       "      <td>11.200000</td>\n",
       "      <td>10.000000</td>\n",
       "      <td>12.000000</td>\n",
       "      <td>9.945200</td>\n",
       "    </tr>\n",
       "  </tbody>\n",
       "</table>\n",
       "<p>8 rows × 27 columns</p>\n",
       "</div>"
      ],
      "text/plain": [
       "        team1_win  team1_adjoe  team2_adjoe  team1_adjtempo  team2_adjtempo  \\\n",
       "count  667.000000   667.000000   667.000000      667.000000      667.000000   \n",
       "mean     0.500750   113.508182   110.349322       66.616774       66.880884   \n",
       "std      0.500375     5.736558     5.816666        2.968515        3.028559   \n",
       "min      0.000000    90.158400    90.158400       57.615400       57.615400   \n",
       "25%      0.000000   109.655950   106.734650       64.794700       64.881600   \n",
       "50%      1.000000   113.646000   110.323000       66.560100       66.924800   \n",
       "75%      1.000000   117.752000   114.100000       68.604400       68.896500   \n",
       "max      1.000000   125.688800   125.688800       74.800000       76.323100   \n",
       "\n",
       "       team2_adjde  team1_adjde  team1_fg2pct  team1_fg3pct  team1_ftpct  ...  \\\n",
       "count   667.000000   667.000000    667.000000    667.000000   667.000000  ...   \n",
       "mean     96.820227    94.342843     51.484568     36.245761    71.355084  ...   \n",
       "std       5.032049     4.449220      3.123882      2.711717     3.447040  ...   \n",
       "min      85.314400    83.799400     43.683400     29.577500    60.719900  ...   \n",
       "25%      93.533300    90.880700     49.271800     34.264544    68.811195  ...   \n",
       "50%      96.462100    94.200000     51.261200     36.257310    71.075400  ...   \n",
       "75%     100.184000    97.300000     53.098750     38.061650    73.926750  ...   \n",
       "max     113.713000   110.550000     62.258314     43.281500    81.801100  ...   \n",
       "\n",
       "       win_tempo_diff  team1_log5    diff_dist   seed_diff  net_rating_diff  \\\n",
       "count      667.000000  667.000000   667.000000  667.000000       667.000000   \n",
       "mean         0.189459    0.505348     4.949954   -0.301349         0.304964   \n",
       "std          7.987707    0.239202  1155.692553    7.443322        11.949748   \n",
       "min        -27.051705    0.009786 -3581.990105  -15.000000       -40.683600   \n",
       "25%         -4.466078    0.326355  -611.120134   -6.500000        -6.751700   \n",
       "50%          0.155575    0.502939   -13.840606    0.000000         0.230800   \n",
       "75%          4.610378    0.684610   623.368702    5.000000         7.004850   \n",
       "max         25.364610    0.981828  3917.144567   15.000000        37.113800   \n",
       "\n",
       "         srs_diff    TRB_diff    TOV_diff    eFG_diff  adjtempo_diff  \n",
       "count  667.000000  667.000000  667.000000  667.000000     667.000000  \n",
       "mean     0.292819   -0.076162   -0.539580    0.434664      -0.372775  \n",
       "std     11.085220    3.497741    6.189834    3.942677       3.130496  \n",
       "min    -36.970000   -9.800000  -58.900000   -9.000000     -11.240200  \n",
       "25%     -5.570000   -2.300000   -1.900000   -2.218850      -2.278850  \n",
       "50%      0.000000   -0.100000    0.200000    0.362000      -0.300000  \n",
       "75%      6.035000    2.200000    1.900000    3.066450       1.487150  \n",
       "max     33.880000   11.200000   10.000000   12.000000       9.945200  \n",
       "\n",
       "[8 rows x 27 columns]"
      ]
     },
     "execution_count": 80,
     "metadata": {},
     "output_type": "execute_result"
    }
   ],
   "source": [
    "data.describe()"
   ]
  },
  {
   "cell_type": "code",
   "execution_count": 81,
   "id": "a91fec04",
   "metadata": {},
   "outputs": [],
   "source": [
    "X = data\n",
    "y = data['team1_win']\n",
    "X = X.drop(columns=['team1_win'])"
   ]
  },
  {
   "cell_type": "code",
   "execution_count": 82,
   "id": "ccf5515d",
   "metadata": {},
   "outputs": [],
   "source": [
    "# Used to gather a list of important variables once random forest model is built\n",
    "data_list = list(X.columns)"
   ]
  },
  {
   "cell_type": "code",
   "execution_count": 83,
   "id": "8c2da099",
   "metadata": {},
   "outputs": [],
   "source": [
    "# Turns data into array, this can be skipped\n",
    "X = data.iloc[:, 1:].values\n",
    "y = data.iloc[:, 0].values"
   ]
  },
  {
   "cell_type": "markdown",
   "id": "bf883637",
   "metadata": {},
   "source": [
    "#### Testing/Training split, Getting data ready for modeling"
   ]
  },
  {
   "cell_type": "code",
   "execution_count": 84,
   "id": "15f8fbfd",
   "metadata": {},
   "outputs": [],
   "source": [
    "X_train, X_test, y_train, y_test = train_test_split(X, y, test_size=0.40, random_state=42)"
   ]
  },
  {
   "cell_type": "code",
   "execution_count": 85,
   "id": "27021b60",
   "metadata": {},
   "outputs": [],
   "source": [
    "## Normalizing Variables\n",
    "X_train = preprocessing.normalize(X_train)\n",
    "X_test = preprocessing.normalize(X_test)"
   ]
  },
  {
   "cell_type": "code",
   "execution_count": 86,
   "metadata": {},
   "outputs": [],
   "source": [
    "## Scaling Variables\n",
    "sc = StandardScaler()\n",
    "X_train = sc.fit_transform(X_train)\n",
    "X_test = sc.transform(X_test)"
   ]
  },
  {
   "cell_type": "markdown",
   "id": "45e5f3a9",
   "metadata": {},
   "source": [
    "#### Running the RF Model"
   ]
  },
  {
   "cell_type": "code",
   "execution_count": 87,
   "id": "886dd6b9",
   "metadata": {},
   "outputs": [],
   "source": [
    "rf = RandomForestClassifier(n_estimators=200, random_state=42, max_features = .25)\n",
    "rf.fit(X_train, y_train)\n",
    "y_pred = rf.predict(X_test)\n",
    "predictions = rf.predict_proba(X_test)"
   ]
  },
  {
   "cell_type": "code",
   "execution_count": 88,
   "id": "4b5c3761",
   "metadata": {},
   "outputs": [
    {
     "name": "stdout",
     "output_type": "stream",
     "text": [
      "[[ 97  47]\n",
      " [ 23 100]]\n",
      "              precision    recall  f1-score   support\n",
      "\n",
      "           0       0.81      0.67      0.73       144\n",
      "           1       0.68      0.81      0.74       123\n",
      "\n",
      "    accuracy                           0.74       267\n",
      "   macro avg       0.74      0.74      0.74       267\n",
      "weighted avg       0.75      0.74      0.74       267\n",
      "\n",
      "0.7378277153558053\n"
     ]
    }
   ],
   "source": [
    "print(confusion_matrix(y_test,y_pred))\n",
    "print(classification_report(y_test,y_pred))\n",
    "print(accuracy_score(y_test, y_pred))"
   ]
  },
  {
   "cell_type": "code",
   "execution_count": 89,
   "id": "5d628f1c",
   "metadata": {},
   "outputs": [
    {
     "data": {
      "application/javascript": "\n        if (window._pyforest_update_imports_cell) { window._pyforest_update_imports_cell('from sklearn.model_selection import cross_val_score\\nimport seaborn as sns'); }\n    ",
      "text/plain": [
       "<IPython.core.display.Javascript object>"
      ]
     },
     "metadata": {},
     "output_type": "display_data"
    },
    {
     "data": {
      "application/javascript": "\n        if (window._pyforest_update_imports_cell) { window._pyforest_update_imports_cell('from sklearn.model_selection import cross_val_score\\nimport seaborn as sns'); }\n    ",
      "text/plain": [
       "<IPython.core.display.Javascript object>"
      ]
     },
     "metadata": {},
     "output_type": "display_data"
    },
    {
     "name": "stdout",
     "output_type": "stream",
     "text": [
      "Accuracy:  (0.871058242621479, 0.03723324799221105)\n",
      "Log Loss:  (-0.3586879949293159, 0.053313915466478574)\n"
     ]
    }
   ],
   "source": [
    "accuracy_RF2 = cross_val_score(rf,X,y,scoring = 'accuracy')\n",
    "log_loss_RF2 = cross_val_score(rf,X,y,scoring = 'neg_log_loss')\n",
    "print(\"Accuracy: \", (accuracy_RF2.mean(), accuracy_RF2.std() * 2))\n",
    "print(\"Log Loss: \", (log_loss_RF2.mean(), log_loss_RF2.std() * 2))"
   ]
  },
  {
   "cell_type": "code",
   "execution_count": 90,
   "id": "09d54ba6",
   "metadata": {},
   "outputs": [
    {
     "data": {
      "application/javascript": "\n        if (window._pyforest_update_imports_cell) { window._pyforest_update_imports_cell('from sklearn.model_selection import cross_val_score\\nimport seaborn as sns'); }\n    ",
      "text/plain": [
       "<IPython.core.display.Javascript object>"
      ]
     },
     "metadata": {},
     "output_type": "display_data"
    },
    {
     "name": "stdout",
     "output_type": "stream",
     "text": [
      "Mean Validation F1 for Random Forest: 0.72 (+/- 0.10)\n"
     ]
    }
   ],
   "source": [
    "scores = cross_val_score(rf, X_train, y_train.ravel(),cv=5, scoring = 'f1')\n",
    "print (\"Mean Validation F1 for Random Forest:\",\"%0.2f (+/- %0.2f)\" % (scores.mean(), scores.std() * 2))"
   ]
  },
  {
   "cell_type": "code",
   "execution_count": 91,
   "id": "02040086",
   "metadata": {},
   "outputs": [
    {
     "name": "stdout",
     "output_type": "stream",
     "text": [
      "Variable: srs_diff             Importance: 0.12676\n",
      "Variable: win_tempo_diff       Importance: 0.08735\n",
      "Variable: TOV_diff             Importance: 0.08302\n",
      "Variable: net_rating_diff      Importance: 0.07804\n",
      "Variable: adjtempo_diff        Importance: 0.06589\n",
      "Variable: seed_diff            Importance: 0.06413\n",
      "Variable: team1_log5           Importance: 0.04741\n",
      "Variable: eFG_diff             Importance: 0.04401\n",
      "Variable: team2_blockpct       Importance: 0.03934\n",
      "Variable: TRB_diff             Importance: 0.03674\n",
      "Variable: team1_blockpct       Importance: 0.02993\n",
      "Variable: diff_dist            Importance: 0.02791\n",
      "Variable: team2_adjoe          Importance: 0.025\n",
      "Variable: team2_fg3pct         Importance: 0.02131\n",
      "Variable: team2_adjde          Importance: 0.02039\n",
      "Variable: team2_TS%            Importance: 0.02018\n",
      "Variable: team1_adjoe          Importance: 0.01999\n",
      "Variable: team2_ftpct          Importance: 0.01957\n",
      "Variable: team1_fg3pct         Importance: 0.0192\n",
      "Variable: team1_adjde          Importance: 0.01919\n",
      "Variable: team1_fg2pct         Importance: 0.01892\n",
      "Variable: team1_TS%            Importance: 0.01816\n",
      "Variable: team2_adjtempo       Importance: 0.01805\n",
      "Variable: team2_fg2pct         Importance: 0.0171\n",
      "Variable: team1_ftpct          Importance: 0.01682\n",
      "Variable: team1_adjtempo       Importance: 0.01556\n"
     ]
    }
   ],
   "source": [
    "# Get numerical feature importances\n",
    "importances = list(rf.feature_importances_)\n",
    "\n",
    "# List of tuples with variable and importance\n",
    "data_importances = [(data, round(importance, 5)) for data, importance in zip(data_list, importances)]\n",
    "\n",
    "# Sort the feature importances by most important first\n",
    "data_importances = sorted(data_importances, key = lambda x: x[1], reverse = True)\n",
    "\n",
    "# Print out the feature and importances \n",
    "[print('Variable: {:20} Importance: {}'.format(*pair)) for pair in data_importances];"
   ]
  },
  {
   "cell_type": "markdown",
   "id": "99228975",
   "metadata": {},
   "source": [
    "#### Feature Selection (RFE)"
   ]
  },
  {
   "cell_type": "code",
   "execution_count": 92,
   "id": "d233a60c",
   "metadata": {},
   "outputs": [
    {
     "data": {
      "text/plain": [
       "RFE(estimator=RandomForestClassifier(max_features=0.25, n_estimators=200,\n",
       "                                     random_state=42),\n",
       "    n_features_to_select=10)"
      ]
     },
     "execution_count": 92,
     "metadata": {},
     "output_type": "execute_result"
    }
   ],
   "source": [
    "rfe = RFE(estimator=rf, n_features_to_select=10, step=1)\n",
    "rfe.fit(X, y)"
   ]
  },
  {
   "cell_type": "code",
   "execution_count": 93,
   "metadata": {},
   "outputs": [],
   "source": [
    "X_new_RFE = rfe.transform(X)"
   ]
  },
  {
   "cell_type": "code",
   "execution_count": 94,
   "id": "fde97eb8",
   "metadata": {},
   "outputs": [
    {
     "data": {
      "text/plain": [
       "array(['team1_adjoe', 'team2_adjoe', 'team2_adjde', 'team1_adjde',\n",
       "       'win_tempo_diff', 'team1_log5', 'net_rating_diff', 'srs_diff',\n",
       "       'TOV_diff', 'adjtempo_diff'], dtype='<U15')"
      ]
     },
     "execution_count": 94,
     "metadata": {},
     "output_type": "execute_result"
    }
   ],
   "source": [
    "feature_names = np.array(data_list)\n",
    "feature_names[rfe.get_support()]"
   ]
  },
  {
   "cell_type": "markdown",
   "id": "9eaba7b5",
   "metadata": {},
   "source": [
    "#### Feature Selection (RFECV)"
   ]
  },
  {
   "cell_type": "code",
   "execution_count": 95,
   "id": "b748bf35",
   "metadata": {},
   "outputs": [
    {
     "data": {
      "application/javascript": "\n        if (window._pyforest_update_imports_cell) { window._pyforest_update_imports_cell('from sklearn.model_selection import cross_val_score\\nfrom sklearn.model_selection import StratifiedKFold\\nimport seaborn as sns'); }\n    ",
      "text/plain": [
       "<IPython.core.display.Javascript object>"
      ]
     },
     "metadata": {},
     "output_type": "display_data"
    },
    {
     "data": {
      "text/plain": [
       "RFECV(cv=StratifiedKFold(n_splits=3, random_state=None, shuffle=False),\n",
       "      estimator=RandomForestClassifier(max_features=0.25, n_estimators=200,\n",
       "                                       random_state=42),\n",
       "      scoring='neg_log_loss')"
      ]
     },
     "execution_count": 95,
     "metadata": {},
     "output_type": "execute_result"
    }
   ],
   "source": [
    "min_features_to_select = 1  # Minimum number of features to consider\n",
    "rfecv = RFECV(\n",
    "    estimator=rf,\n",
    "    step=1,\n",
    "    cv=StratifiedKFold(3),\n",
    "    scoring=\"neg_log_loss\",\n",
    ")\n",
    "rfecv.fit(X, y)"
   ]
  },
  {
   "cell_type": "code",
   "execution_count": 96,
   "id": "2ffc1a39",
   "metadata": {},
   "outputs": [],
   "source": [
    "selector = rfecv.fit(X, y)"
   ]
  },
  {
   "cell_type": "code",
   "execution_count": 97,
   "id": "7fcafca3",
   "metadata": {},
   "outputs": [
    {
     "data": {
      "text/plain": [
       "array(['team1_adjoe', 'team2_adjoe', 'team2_adjde', 'team1_adjde',\n",
       "       'win_tempo_diff', 'team1_log5', 'net_rating_diff', 'srs_diff',\n",
       "       'TOV_diff', 'adjtempo_diff'], dtype='<U15')"
      ]
     },
     "execution_count": 97,
     "metadata": {},
     "output_type": "execute_result"
    }
   ],
   "source": [
    "feature_names\n",
    "feature_names[selector.get_support()]"
   ]
  },
  {
   "cell_type": "markdown",
   "id": "f8d19653",
   "metadata": {},
   "source": [
    "### RF Model After Feaure Selection"
   ]
  },
  {
   "cell_type": "code",
   "execution_count": 124,
   "id": "0f00b873",
   "metadata": {},
   "outputs": [],
   "source": [
    "data = mm_train\n",
    "data = data.drop(columns=['game_id'])"
   ]
  },
  {
   "cell_type": "code",
   "execution_count": 125,
   "metadata": {},
   "outputs": [],
   "source": [
    "data = data[['team1_win','team1_adjoe', 'team2_adjoe', 'team2_adjde', 'team1_adjde',\n",
    "       'win_tempo_diff', 'team1_log5', 'net_rating_diff', 'srs_diff',\n",
    "       'TOV_diff', 'adjtempo_diff']]"
   ]
  },
  {
   "cell_type": "code",
   "execution_count": 126,
   "id": "278f99b3",
   "metadata": {},
   "outputs": [],
   "source": [
    "X = data\n",
    "y = data['team1_win']\n",
    "X = X.drop(columns=['team1_win'])"
   ]
  },
  {
   "cell_type": "code",
   "execution_count": 127,
   "metadata": {},
   "outputs": [],
   "source": [
    "# Turns data into array, this can be skipped\n",
    "X = data.iloc[:, 1:].values\n",
    "y = data.iloc[:, 0].values"
   ]
  },
  {
   "cell_type": "code",
   "execution_count": 128,
   "id": "bc478ef1",
   "metadata": {},
   "outputs": [],
   "source": [
    "X_train, X_test, y_train, y_test = train_test_split(X, y, test_size=0.40, random_state=42)"
   ]
  },
  {
   "cell_type": "code",
   "execution_count": 129,
   "metadata": {},
   "outputs": [],
   "source": [
    "## Normalizing Variables\n",
    "X_train = preprocessing.normalize(X_train)\n",
    "X_test = preprocessing.normalize(X_test)"
   ]
  },
  {
   "cell_type": "code",
   "execution_count": 130,
   "metadata": {},
   "outputs": [],
   "source": [
    "## Scaling Variables\n",
    "sc = StandardScaler()\n",
    "X_train = sc.fit_transform(X_train)\n",
    "X_test = sc.transform(X_test)"
   ]
  },
  {
   "cell_type": "code",
   "execution_count": 131,
   "id": "c7ceb6c8",
   "metadata": {},
   "outputs": [],
   "source": [
    "rf = RandomForestClassifier(n_estimators=200, random_state=42, max_features = .25)\n",
    "rf.fit(X_train, y_train)\n",
    "y_pred = rf.predict(X_test)\n",
    "predictions = rf.predict_proba(X_test)"
   ]
  },
  {
   "cell_type": "code",
   "execution_count": 132,
   "metadata": {},
   "outputs": [
    {
     "name": "stdout",
     "output_type": "stream",
     "text": [
      "[[120  24]\n",
      " [  2 121]]\n",
      "              precision    recall  f1-score   support\n",
      "\n",
      "           0       0.98      0.83      0.90       144\n",
      "           1       0.83      0.98      0.90       123\n",
      "\n",
      "    accuracy                           0.90       267\n",
      "   macro avg       0.91      0.91      0.90       267\n",
      "weighted avg       0.91      0.90      0.90       267\n",
      "\n",
      "0.9026217228464419\n"
     ]
    }
   ],
   "source": [
    "print(confusion_matrix(y_test,y_pred))\n",
    "print(classification_report(y_test,y_pred))\n",
    "print(accuracy_score(y_test, y_pred))"
   ]
  },
  {
   "cell_type": "code",
   "execution_count": 133,
   "metadata": {},
   "outputs": [
    {
     "data": {
      "application/javascript": "\n        if (window._pyforest_update_imports_cell) { window._pyforest_update_imports_cell('from sklearn.model_selection import cross_val_score\\nfrom sklearn.model_selection import StratifiedKFold\\nimport seaborn as sns'); }\n    ",
      "text/plain": [
       "<IPython.core.display.Javascript object>"
      ]
     },
     "metadata": {},
     "output_type": "display_data"
    },
    {
     "data": {
      "application/javascript": "\n        if (window._pyforest_update_imports_cell) { window._pyforest_update_imports_cell('from sklearn.model_selection import cross_val_score\\nfrom sklearn.model_selection import StratifiedKFold\\nimport seaborn as sns'); }\n    ",
      "text/plain": [
       "<IPython.core.display.Javascript object>"
      ]
     },
     "metadata": {},
     "output_type": "display_data"
    },
    {
     "name": "stdout",
     "output_type": "stream",
     "text": [
      "Accuracy:  (0.8739984289080912, 0.046526369489234796)\n",
      "Log Loss:  (-0.32532032446826, 0.060124516710613966)\n"
     ]
    }
   ],
   "source": [
    "accuracy_RF2 = cross_val_score(rf,X,y,scoring = 'accuracy')\n",
    "log_loss_RF2 = cross_val_score(rf,X,y,scoring = 'neg_log_loss')\n",
    "print(\"Accuracy: \", (accuracy_RF2.mean(), accuracy_RF2.std() * 2))\n",
    "print(\"Log Loss: \", (log_loss_RF2.mean(), log_loss_RF2.std() * 2))"
   ]
  },
  {
   "cell_type": "code",
   "execution_count": 134,
   "id": "44ed2608",
   "metadata": {},
   "outputs": [
    {
     "data": {
      "application/javascript": "\n        if (window._pyforest_update_imports_cell) { window._pyforest_update_imports_cell('from sklearn.model_selection import cross_val_score\\nfrom sklearn.model_selection import StratifiedKFold\\nimport seaborn as sns'); }\n    ",
      "text/plain": [
       "<IPython.core.display.Javascript object>"
      ]
     },
     "metadata": {},
     "output_type": "display_data"
    },
    {
     "name": "stdout",
     "output_type": "stream",
     "text": [
      "Mean Validation F1 for Random Forest: 0.91 (+/- 0.09)\n"
     ]
    }
   ],
   "source": [
    "scores = cross_val_score(rf, X_train, y_train.ravel(),cv=5, scoring = 'f1')\n",
    "print (\"Mean Validation F1 for Random Forest:\",\"%0.2f (+/- %0.2f)\" % (scores.mean(), scores.std() * 2))"
   ]
  },
  {
   "cell_type": "markdown",
   "id": "6fab74db",
   "metadata": {},
   "source": [
    "## Create Example Submission"
   ]
  },
  {
   "cell_type": "code",
   "execution_count": 135,
   "id": "3d2fa1dd",
   "metadata": {},
   "outputs": [],
   "source": [
    "example_submission = pd.read_csv('MM_2022_Data.csv').query(\"season==2022\").reset_index(drop=True)"
   ]
  },
  {
   "cell_type": "code",
   "execution_count": 136,
   "id": "670bd0dc",
   "metadata": {},
   "outputs": [],
   "source": [
    "example_submission ['exp_win1'] = (example_submission['team1_adjoe']**11.5)/ ((example_submission['team1_adjde']**11.5)+(example_submission['team1_adjoe']**11.5))\n",
    "example_submission ['exp_win2'] = (example_submission['team2_adjoe']**11.5)/ ((example_submission['team2_adjde']**11.5)+(example_submission['team2_adjoe']**11.5))"
   ]
  },
  {
   "cell_type": "code",
   "execution_count": 139,
   "id": "cc1d3df5",
   "metadata": {},
   "outputs": [],
   "source": [
    "example_submission['team1_log5'] = (example_submission['exp_win1'] - (example_submission['exp_win1']*example_submission['exp_win2']))/ (example_submission['exp_win1']+example_submission['exp_win2']-(2*example_submission['exp_win1']*example_submission['exp_win2']))\n",
    "example_submission['seed_diff'] = example_submission['team1_seed'] - example_submission['team2_seed']\n",
    "example_submission['net_rating_diff'] = (example_submission['team1_adjoe'] - example_submission['team1_adjde']) - (example_submission['team2_adjoe'] - example_submission['team2_adjde'])\n",
    "example_submission['srs_diff'] = example_submission['team1_SRS'] - example_submission['team2_SRS']\n",
    "example_submission['adjtempo_diff'] = (example_submission['team1_adjtempo'] -example_submission['team2_adjtempo'])\n",
    "example_submission['eFG_diff'] = example_submission['team1_eFG%'] - example_submission['team2_eFG%']\n",
    "example_submission['TOV_diff'] =  example_submission['team2_TOV%']- example_submission['team1_TOV%']\n",
    "example_submission['win_tempo_diff'] = (((example_submission['team1_adjoe'] - 100) -(100 - example_submission['team2_adjde'])+100)/100*((example_submission['team1_adjtempo'] + example_submission['team2_adjtempo'])/2)) - (((example_submission['team2_adjoe'] - 100) - (100 - example_submission['team1_adjde'])+100)/100*((example_submission['team1_adjtempo']+example_submission['team2_adjtempo'])/2))\n"
   ]
  },
  {
   "cell_type": "code",
   "execution_count": 140,
   "id": "610c3a90",
   "metadata": {},
   "outputs": [],
   "source": [
    "test = example_submission[['team1_adjoe', 'team2_adjoe', 'team2_adjde', 'team1_adjde',\n",
    "       'win_tempo_diff', 'team1_log5', 'net_rating_diff', 'srs_diff',\n",
    "       'TOV_diff', 'adjtempo_diff']]"
   ]
  },
  {
   "cell_type": "code",
   "execution_count": 141,
   "id": "5a544e30",
   "metadata": {},
   "outputs": [],
   "source": [
    "test = test.iloc[:].values\n",
    "test = preprocessing.normalize(test)\n",
    "test = sc.transform(test)"
   ]
  },
  {
   "cell_type": "code",
   "execution_count": 142,
   "id": "7140bdda",
   "metadata": {},
   "outputs": [],
   "source": [
    "example_submission[['n','prob']] = rf.predict_proba(test)"
   ]
  },
  {
   "cell_type": "code",
   "execution_count": 143,
   "id": "76191d2f",
   "metadata": {},
   "outputs": [],
   "source": [
    "#example_submission['prob'] = smlogit.predict(example_submission[['team1_log5','seed_diff','TRB_diff', 'win_tempo_diff','srs_diff','net_rating_diff']])"
   ]
  },
  {
   "cell_type": "code",
   "execution_count": 144,
   "id": "ee78ada6",
   "metadata": {},
   "outputs": [
    {
     "data": {
      "text/html": [
       "<div>\n",
       "<style scoped>\n",
       "    .dataframe tbody tr th:only-of-type {\n",
       "        vertical-align: middle;\n",
       "    }\n",
       "\n",
       "    .dataframe tbody tr th {\n",
       "        vertical-align: top;\n",
       "    }\n",
       "\n",
       "    .dataframe thead th {\n",
       "        text-align: right;\n",
       "    }\n",
       "</style>\n",
       "<table border=\"1\" class=\"dataframe\">\n",
       "  <thead>\n",
       "    <tr style=\"text-align: right;\">\n",
       "      <th></th>\n",
       "      <th>game_id</th>\n",
       "      <th>team1_teamname</th>\n",
       "      <th>team2_teamname</th>\n",
       "      <th>prob</th>\n",
       "    </tr>\n",
       "  </thead>\n",
       "  <tbody>\n",
       "    <tr>\n",
       "      <th>0</th>\n",
       "      <td>2022-1124-1246</td>\n",
       "      <td>Baylor</td>\n",
       "      <td>Kentucky</td>\n",
       "      <td>0.755</td>\n",
       "    </tr>\n",
       "    <tr>\n",
       "      <th>1</th>\n",
       "      <td>2022-1124-1345</td>\n",
       "      <td>Baylor</td>\n",
       "      <td>Purdue</td>\n",
       "      <td>0.625</td>\n",
       "    </tr>\n",
       "    <tr>\n",
       "      <th>2</th>\n",
       "      <td>2022-1124-1417</td>\n",
       "      <td>Baylor</td>\n",
       "      <td>UCLA</td>\n",
       "      <td>0.650</td>\n",
       "    </tr>\n",
       "    <tr>\n",
       "      <th>3</th>\n",
       "      <td>2022-1124-1388</td>\n",
       "      <td>Baylor</td>\n",
       "      <td>St Mary's CA</td>\n",
       "      <td>0.865</td>\n",
       "    </tr>\n",
       "    <tr>\n",
       "      <th>4</th>\n",
       "      <td>2022-1124-1400</td>\n",
       "      <td>Baylor</td>\n",
       "      <td>Texas</td>\n",
       "      <td>0.900</td>\n",
       "    </tr>\n",
       "    <tr>\n",
       "      <th>...</th>\n",
       "      <td>...</td>\n",
       "      <td>...</td>\n",
       "      <td>...</td>\n",
       "      <td>...</td>\n",
       "    </tr>\n",
       "    <tr>\n",
       "      <th>2273</th>\n",
       "      <td>2022-1436-1168</td>\n",
       "      <td>Vermont</td>\n",
       "      <td>CS Fullerton</td>\n",
       "      <td>0.830</td>\n",
       "    </tr>\n",
       "    <tr>\n",
       "      <th>2274</th>\n",
       "      <td>2022-1436-1209</td>\n",
       "      <td>Vermont</td>\n",
       "      <td>Georgia St</td>\n",
       "      <td>0.935</td>\n",
       "    </tr>\n",
       "    <tr>\n",
       "      <th>2275</th>\n",
       "      <td>2022-1286-1168</td>\n",
       "      <td>Montana St</td>\n",
       "      <td>CS Fullerton</td>\n",
       "      <td>0.420</td>\n",
       "    </tr>\n",
       "    <tr>\n",
       "      <th>2276</th>\n",
       "      <td>2022-1286-1209</td>\n",
       "      <td>Montana St</td>\n",
       "      <td>Georgia St</td>\n",
       "      <td>0.520</td>\n",
       "    </tr>\n",
       "    <tr>\n",
       "      <th>2277</th>\n",
       "      <td>2022-1168-1209</td>\n",
       "      <td>CS Fullerton</td>\n",
       "      <td>Georgia St</td>\n",
       "      <td>0.570</td>\n",
       "    </tr>\n",
       "  </tbody>\n",
       "</table>\n",
       "<p>2278 rows × 4 columns</p>\n",
       "</div>"
      ],
      "text/plain": [
       "             game_id team1_teamname team2_teamname   prob\n",
       "0     2022-1124-1246         Baylor       Kentucky  0.755\n",
       "1     2022-1124-1345         Baylor         Purdue  0.625\n",
       "2     2022-1124-1417         Baylor           UCLA  0.650\n",
       "3     2022-1124-1388         Baylor   St Mary's CA  0.865\n",
       "4     2022-1124-1400         Baylor          Texas  0.900\n",
       "...              ...            ...            ...    ...\n",
       "2273  2022-1436-1168        Vermont   CS Fullerton  0.830\n",
       "2274  2022-1436-1209        Vermont     Georgia St  0.935\n",
       "2275  2022-1286-1168     Montana St   CS Fullerton  0.420\n",
       "2276  2022-1286-1209     Montana St     Georgia St  0.520\n",
       "2277  2022-1168-1209   CS Fullerton     Georgia St  0.570\n",
       "\n",
       "[2278 rows x 4 columns]"
      ]
     },
     "execution_count": 144,
     "metadata": {},
     "output_type": "execute_result"
    }
   ],
   "source": [
    "example_submission[['game_id','team1_teamname','team2_teamname','prob']]"
   ]
  },
  {
   "cell_type": "code",
   "execution_count": 145,
   "id": "66c45a42",
   "metadata": {
    "scrolled": true
   },
   "outputs": [
    {
     "name": "stdout",
     "output_type": "stream",
     "text": [
      "The teams who won with a greater than 50% probability of winning: prob    2114\n",
      "dtype: int64\n"
     ]
    }
   ],
   "source": [
    "filter_prob = (example_submission.prob >= 0.5)\n",
    "print(\"The teams who won with a greater than 50% probability of winning:\", example_submission[filter_prob][['prob']].count())"
   ]
  },
  {
   "cell_type": "code",
   "execution_count": 146,
   "id": "c812a383",
   "metadata": {},
   "outputs": [
    {
     "data": {
      "text/plain": [
       "(2278, 2)"
      ]
     },
     "execution_count": 146,
     "metadata": {},
     "output_type": "execute_result"
    }
   ],
   "source": [
    "example_submission[['game_id','prob']].shape"
   ]
  },
  {
   "cell_type": "code",
   "execution_count": 147,
   "id": "dd9f1400",
   "metadata": {},
   "outputs": [],
   "source": [
    "example_submission[['game_id','team1_teamname','team2_teamname','prob']].to_csv(\"Bracket_Busters2022.csv\", index=False)"
   ]
  },
  {
   "cell_type": "code",
   "execution_count": null,
   "id": "296c6f3b",
   "metadata": {},
   "outputs": [],
   "source": []
  }
 ],
 "metadata": {
  "interpreter": {
   "hash": "7cb0b22e99bf12244e73905db9997166c9cd7dd3da0cb916400675d967e1fa08"
  },
  "kernelspec": {
   "display_name": "Python 3.8.8 ('base')",
   "language": "python",
   "name": "python3"
  },
  "language_info": {
   "codemirror_mode": {
    "name": "ipython",
    "version": 3
   },
   "file_extension": ".py",
   "mimetype": "text/x-python",
   "name": "python",
   "nbconvert_exporter": "python",
   "pygments_lexer": "ipython3",
   "version": "3.8.8"
  }
 },
 "nbformat": 4,
 "nbformat_minor": 5
}
